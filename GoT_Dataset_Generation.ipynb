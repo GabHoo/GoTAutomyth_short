{
  "nbformat": 4,
  "nbformat_minor": 0,
  "metadata": {
    "colab": {
      "name": "KRW_GoT_character_selection.ipynb",
      "provenance": [],
      "collapsed_sections": []
    },
    "kernelspec": {
      "name": "python3",
      "display_name": "Python 3"
    },
    "language_info": {
      "name": "python"
    }
  },
  "cells": [
    {
      "cell_type": "markdown",
      "source": [
        "\n",
        "# Relationship-based Character Selection\n",
        "---\n",
        "\n",
        "In this module, we aim to select characters based on the available relation information. By doing so, the story generator can integrate more contextual knowledge about the universe and make the story more coherent. \n"
      ],
      "metadata": {
        "id": "Np7Su2Q1_x-z"
      }
    },
    {
      "cell_type": "code",
      "source": [
        "main_characters = {\"Jon_Snow\": \"Q3183235\",\n",
        "                   \"Daenerys_Targaryen\": \"Q2708078\",\n",
        "                   \"Arya_Stark\": \"Q3624677\",\n",
        "                   \"Bran_Stark\": \"Q3643599\",\n",
        "                   \"Cersei_Lannister\": \"Q3665163\", \n",
        "                   \"Tyrion_Lannister\" : \"Q2076759\",\n",
        "                   \"Margaery_Tyrell\": \"Q12900933\",\n",
        "                   \"Petyr_Baelish\": \"Q4360302\",\n",
        "                   \"Robert_Baratheon\" : \"Q13634885\"}"
      ],
      "metadata": {
        "id": "p5PaWJ5n4uM3"
      },
      "execution_count": null,
      "outputs": []
    },
    {
      "cell_type": "markdown",
      "source": [
        "\n",
        "\n",
        "---\n",
        "\n",
        "\n",
        "## Using the \"Network of Thrones\" data\n",
        "\n",
        "The Network of Thrones data uses the Game of Thrones scripts to create a weighted relationship graph. The interaction types between Character A and Character B are defined as following:\n",
        "\n",
        "1. Character A speaks directly after Character B\n",
        "2. Character A speaks about Character B\n",
        "3. Character C speaks about Character A and Character B\n",
        "4. Character A and Character B are mentioned in the same stage direction\n",
        "5. Character A and Character B appear in a scene together\n",
        "\n",
        "The weight of the edge between two characters is determined by the number of times they interact in the script.\n"
      ],
      "metadata": {
        "id": "6hbo1V0PAsYA"
      }
    },
    {
      "cell_type": "code",
      "execution_count": null,
      "metadata": {
        "colab": {
          "base_uri": "https://localhost:8080/"
        },
        "id": "unqytS9Zl89t",
        "outputId": "e5df221f-8374-43e7-8062-aa87c307488d"
      },
      "outputs": [
        {
          "output_type": "stream",
          "name": "stdout",
          "text": [
            "Cloning into 'gameofthrones'...\n",
            "remote: Enumerating objects: 62, done.\u001b[K\n",
            "remote: Counting objects: 100% (7/7), done.\u001b[K\n",
            "remote: Compressing objects: 100% (7/7), done.\u001b[K\n",
            "remote: Total 62 (delta 0), reused 2 (delta 0), pack-reused 55\u001b[K\n",
            "Unpacking objects: 100% (62/62), done.\n"
          ]
        }
      ],
      "source": [
        "!git clone https://github.com/mathbeveridge/gameofthrones"
      ]
    },
    {
      "cell_type": "code",
      "source": [
        "import os\n",
        "import pandas as pd\n",
        "import random\n",
        "\n",
        "f = \"gameofthrones/data/\"\n",
        "edges = []\n",
        "nodes = []\n",
        "\n",
        "for d in sorted(os.listdir(f)):\n",
        "  if \"edge\" in d:\n",
        "    edges.append(pd.read_csv(f+d))\n",
        "  elif \"node\" in d:\n",
        "    nodes.append(pd.read_csv(f+d))"
      ],
      "metadata": {
        "id": "BtFzIqRpmLaL",
        "colab": {
          "base_uri": "https://localhost:8080/",
          "height": 234
        },
        "outputId": "cabac094-0e63-44f0-f907-c8beae9e5ee6"
      },
      "execution_count": null,
      "outputs": [
        {
          "output_type": "error",
          "ename": "FileNotFoundError",
          "evalue": "ignored",
          "traceback": [
            "\u001b[0;31m---------------------------------------------------------------------------\u001b[0m",
            "\u001b[0;31mFileNotFoundError\u001b[0m                         Traceback (most recent call last)",
            "\u001b[0;32m<ipython-input-2-9cef6c14ac4c>\u001b[0m in \u001b[0;36m<module>\u001b[0;34m()\u001b[0m\n\u001b[1;32m      7\u001b[0m \u001b[0mnodes\u001b[0m \u001b[0;34m=\u001b[0m \u001b[0;34m[\u001b[0m\u001b[0;34m]\u001b[0m\u001b[0;34m\u001b[0m\u001b[0;34m\u001b[0m\u001b[0m\n\u001b[1;32m      8\u001b[0m \u001b[0;34m\u001b[0m\u001b[0m\n\u001b[0;32m----> 9\u001b[0;31m \u001b[0;32mfor\u001b[0m \u001b[0md\u001b[0m \u001b[0;32min\u001b[0m \u001b[0msorted\u001b[0m\u001b[0;34m(\u001b[0m\u001b[0mos\u001b[0m\u001b[0;34m.\u001b[0m\u001b[0mlistdir\u001b[0m\u001b[0;34m(\u001b[0m\u001b[0mf\u001b[0m\u001b[0;34m)\u001b[0m\u001b[0;34m)\u001b[0m\u001b[0;34m:\u001b[0m\u001b[0;34m\u001b[0m\u001b[0;34m\u001b[0m\u001b[0m\n\u001b[0m\u001b[1;32m     10\u001b[0m   \u001b[0;32mif\u001b[0m \u001b[0;34m\"edge\"\u001b[0m \u001b[0;32min\u001b[0m \u001b[0md\u001b[0m\u001b[0;34m:\u001b[0m\u001b[0;34m\u001b[0m\u001b[0;34m\u001b[0m\u001b[0m\n\u001b[1;32m     11\u001b[0m     \u001b[0medges\u001b[0m\u001b[0;34m.\u001b[0m\u001b[0mappend\u001b[0m\u001b[0;34m(\u001b[0m\u001b[0mpd\u001b[0m\u001b[0;34m.\u001b[0m\u001b[0mread_csv\u001b[0m\u001b[0;34m(\u001b[0m\u001b[0mf\u001b[0m\u001b[0;34m+\u001b[0m\u001b[0md\u001b[0m\u001b[0;34m)\u001b[0m\u001b[0;34m)\u001b[0m\u001b[0;34m\u001b[0m\u001b[0;34m\u001b[0m\u001b[0m\n",
            "\u001b[0;31mFileNotFoundError\u001b[0m: [Errno 2] No such file or directory: 'Network_of_Thrones/'"
          ]
        }
      ]
    },
    {
      "cell_type": "code",
      "source": [
        "## Given a character and desired season, return a character selected \n",
        "## randomly from the top N relations with respect to their weights.\n",
        "\n",
        "def find_related_character(season, character_id, n):\n",
        "  so = edges[season-1][edges[season-1].Source == character_id][[\"Target\", \"Weight\"]].rename({'Target': 'Relation'}, axis=1)\n",
        "  ta = edges[season-1][edges[season-1].Target == character_id][[\"Source\", \"Weight\"]].rename({'Source': 'Relation'}, axis=1)\n",
        "\n",
        "  relations = so.append(ta).sort_values(by = \"Weight\", ascending=False)[:n]\n",
        "  related_character = random.choices(list(relations[\"Relation\"]), weights=list(relations[\"Weight\"]))\n",
        "  return related_character\n",
        "\n",
        "find_related_character(1, \"CERSEI\", 1)"
      ],
      "metadata": {
        "colab": {
          "base_uri": "https://localhost:8080/"
        },
        "id": "fk3qPgd-4Wbo",
        "outputId": "2d2e1c6d-16f8-4749-fe07-39ae69eac766"
      },
      "execution_count": null,
      "outputs": [
        {
          "output_type": "execute_result",
          "data": {
            "text/plain": [
              "['NED']"
            ]
          },
          "metadata": {},
          "execution_count": 3
        }
      ]
    },
    {
      "cell_type": "code",
      "source": [
        "nodes"
      ],
      "metadata": {
        "colab": {
          "base_uri": "https://localhost:8080/",
          "height": 423
        },
        "id": "4y8qE3CU4zWd",
        "outputId": "2be9d585-ac1b-48b7-ef02-a7441cb1d4f2"
      },
      "execution_count": null,
      "outputs": [
        {
          "output_type": "execute_result",
          "data": {
            "text/plain": [
              "                                   Id                             Label\n",
              "0                      Addam_Marbrand                    Addam Marbrand\n",
              "1         Aegon_Frey_(son_of_Stevron)       Aegon Frey (son of Stevron)\n",
              "2                   Aegon_I_Targaryen                 Aegon I Targaryen\n",
              "3    Aegon_Targaryen_(son_of_Rhaegar)  Aegon Targaryen (son of Rhaegar)\n",
              "4                   Aegon_V_Targaryen                 Aegon V Targaryen\n",
              "..                                ...                               ...\n",
              "791                       Yorko_Terys                       Yorko Terys\n",
              "792                            Ysilla                            Ysilla\n",
              "793                 Yurkhaz_zo_Yunzak                 Yurkhaz zo Yunzak\n",
              "794                               Zei                               Zei\n",
              "795                             Zollo                             Zollo\n",
              "\n",
              "[796 rows x 2 columns]"
            ],
            "text/html": [
              "\n",
              "  <div id=\"df-19ee5007-31fd-4893-8dfd-e0f97e572fe2\">\n",
              "    <div class=\"colab-df-container\">\n",
              "      <div>\n",
              "<style scoped>\n",
              "    .dataframe tbody tr th:only-of-type {\n",
              "        vertical-align: middle;\n",
              "    }\n",
              "\n",
              "    .dataframe tbody tr th {\n",
              "        vertical-align: top;\n",
              "    }\n",
              "\n",
              "    .dataframe thead th {\n",
              "        text-align: right;\n",
              "    }\n",
              "</style>\n",
              "<table border=\"1\" class=\"dataframe\">\n",
              "  <thead>\n",
              "    <tr style=\"text-align: right;\">\n",
              "      <th></th>\n",
              "      <th>Id</th>\n",
              "      <th>Label</th>\n",
              "    </tr>\n",
              "  </thead>\n",
              "  <tbody>\n",
              "    <tr>\n",
              "      <th>0</th>\n",
              "      <td>Addam_Marbrand</td>\n",
              "      <td>Addam Marbrand</td>\n",
              "    </tr>\n",
              "    <tr>\n",
              "      <th>1</th>\n",
              "      <td>Aegon_Frey_(son_of_Stevron)</td>\n",
              "      <td>Aegon Frey (son of Stevron)</td>\n",
              "    </tr>\n",
              "    <tr>\n",
              "      <th>2</th>\n",
              "      <td>Aegon_I_Targaryen</td>\n",
              "      <td>Aegon I Targaryen</td>\n",
              "    </tr>\n",
              "    <tr>\n",
              "      <th>3</th>\n",
              "      <td>Aegon_Targaryen_(son_of_Rhaegar)</td>\n",
              "      <td>Aegon Targaryen (son of Rhaegar)</td>\n",
              "    </tr>\n",
              "    <tr>\n",
              "      <th>4</th>\n",
              "      <td>Aegon_V_Targaryen</td>\n",
              "      <td>Aegon V Targaryen</td>\n",
              "    </tr>\n",
              "    <tr>\n",
              "      <th>...</th>\n",
              "      <td>...</td>\n",
              "      <td>...</td>\n",
              "    </tr>\n",
              "    <tr>\n",
              "      <th>791</th>\n",
              "      <td>Yorko_Terys</td>\n",
              "      <td>Yorko Terys</td>\n",
              "    </tr>\n",
              "    <tr>\n",
              "      <th>792</th>\n",
              "      <td>Ysilla</td>\n",
              "      <td>Ysilla</td>\n",
              "    </tr>\n",
              "    <tr>\n",
              "      <th>793</th>\n",
              "      <td>Yurkhaz_zo_Yunzak</td>\n",
              "      <td>Yurkhaz zo Yunzak</td>\n",
              "    </tr>\n",
              "    <tr>\n",
              "      <th>794</th>\n",
              "      <td>Zei</td>\n",
              "      <td>Zei</td>\n",
              "    </tr>\n",
              "    <tr>\n",
              "      <th>795</th>\n",
              "      <td>Zollo</td>\n",
              "      <td>Zollo</td>\n",
              "    </tr>\n",
              "  </tbody>\n",
              "</table>\n",
              "<p>796 rows × 2 columns</p>\n",
              "</div>\n",
              "      <button class=\"colab-df-convert\" onclick=\"convertToInteractive('df-19ee5007-31fd-4893-8dfd-e0f97e572fe2')\"\n",
              "              title=\"Convert this dataframe to an interactive table.\"\n",
              "              style=\"display:none;\">\n",
              "        \n",
              "  <svg xmlns=\"http://www.w3.org/2000/svg\" height=\"24px\"viewBox=\"0 0 24 24\"\n",
              "       width=\"24px\">\n",
              "    <path d=\"M0 0h24v24H0V0z\" fill=\"none\"/>\n",
              "    <path d=\"M18.56 5.44l.94 2.06.94-2.06 2.06-.94-2.06-.94-.94-2.06-.94 2.06-2.06.94zm-11 1L8.5 8.5l.94-2.06 2.06-.94-2.06-.94L8.5 2.5l-.94 2.06-2.06.94zm10 10l.94 2.06.94-2.06 2.06-.94-2.06-.94-.94-2.06-.94 2.06-2.06.94z\"/><path d=\"M17.41 7.96l-1.37-1.37c-.4-.4-.92-.59-1.43-.59-.52 0-1.04.2-1.43.59L10.3 9.45l-7.72 7.72c-.78.78-.78 2.05 0 2.83L4 21.41c.39.39.9.59 1.41.59.51 0 1.02-.2 1.41-.59l7.78-7.78 2.81-2.81c.8-.78.8-2.07 0-2.86zM5.41 20L4 18.59l7.72-7.72 1.47 1.35L5.41 20z\"/>\n",
              "  </svg>\n",
              "      </button>\n",
              "      \n",
              "  <style>\n",
              "    .colab-df-container {\n",
              "      display:flex;\n",
              "      flex-wrap:wrap;\n",
              "      gap: 12px;\n",
              "    }\n",
              "\n",
              "    .colab-df-convert {\n",
              "      background-color: #E8F0FE;\n",
              "      border: none;\n",
              "      border-radius: 50%;\n",
              "      cursor: pointer;\n",
              "      display: none;\n",
              "      fill: #1967D2;\n",
              "      height: 32px;\n",
              "      padding: 0 0 0 0;\n",
              "      width: 32px;\n",
              "    }\n",
              "\n",
              "    .colab-df-convert:hover {\n",
              "      background-color: #E2EBFA;\n",
              "      box-shadow: 0px 1px 2px rgba(60, 64, 67, 0.3), 0px 1px 3px 1px rgba(60, 64, 67, 0.15);\n",
              "      fill: #174EA6;\n",
              "    }\n",
              "\n",
              "    [theme=dark] .colab-df-convert {\n",
              "      background-color: #3B4455;\n",
              "      fill: #D2E3FC;\n",
              "    }\n",
              "\n",
              "    [theme=dark] .colab-df-convert:hover {\n",
              "      background-color: #434B5C;\n",
              "      box-shadow: 0px 1px 3px 1px rgba(0, 0, 0, 0.15);\n",
              "      filter: drop-shadow(0px 1px 2px rgba(0, 0, 0, 0.3));\n",
              "      fill: #FFFFFF;\n",
              "    }\n",
              "  </style>\n",
              "\n",
              "      <script>\n",
              "        const buttonEl =\n",
              "          document.querySelector('#df-19ee5007-31fd-4893-8dfd-e0f97e572fe2 button.colab-df-convert');\n",
              "        buttonEl.style.display =\n",
              "          google.colab.kernel.accessAllowed ? 'block' : 'none';\n",
              "\n",
              "        async function convertToInteractive(key) {\n",
              "          const element = document.querySelector('#df-19ee5007-31fd-4893-8dfd-e0f97e572fe2');\n",
              "          const dataTable =\n",
              "            await google.colab.kernel.invokeFunction('convertToInteractive',\n",
              "                                                     [key], {});\n",
              "          if (!dataTable) return;\n",
              "\n",
              "          const docLinkHtml = 'Like what you see? Visit the ' +\n",
              "            '<a target=\"_blank\" href=https://colab.research.google.com/notebooks/data_table.ipynb>data table notebook</a>'\n",
              "            + ' to learn more about interactive tables.';\n",
              "          element.innerHTML = '';\n",
              "          dataTable['output_type'] = 'display_data';\n",
              "          await google.colab.output.renderOutput(dataTable, element);\n",
              "          const docLink = document.createElement('div');\n",
              "          docLink.innerHTML = docLinkHtml;\n",
              "          element.appendChild(docLink);\n",
              "        }\n",
              "      </script>\n",
              "    </div>\n",
              "  </div>\n",
              "  "
            ]
          },
          "metadata": {},
          "execution_count": 11
        }
      ]
    },
    {
      "cell_type": "code",
      "source": [
        "edges = pd.read_csv(\"asoiaf-all-edges.csv\")\n",
        "edges_subset = []\n",
        "for line in edges.iterrows():\n",
        "  for char in main_characters:\n",
        "    if(line[1]['Source'] == char or line[1]['Target'] == char):\n",
        "      edges_subset.append(line[1])\n",
        "\n",
        "nodes = pd.read_csv(\"asoiaf-all-nodes.csv\")\n",
        "nodes_subset = []\n",
        "for line in nodes.iterrows():\n",
        "  for char in main_characters:\n",
        "    if(line[1]['Id'] == char):\n",
        "      nodes_subset.append(line[1])\n",
        "\n",
        "pd.DataFrame(edges_subset).to_csv(\"edges_subset.csv\", index = False)\n",
        "pd.DataFrame(nodes_subset).to_csv(\"nodes_subset.csv\", index = False)"
      ],
      "metadata": {
        "id": "uVAGVJ2X4N7L"
      },
      "execution_count": null,
      "outputs": []
    },
    {
      "cell_type": "code",
      "source": [
        "edges"
      ],
      "metadata": {
        "colab": {
          "base_uri": "https://localhost:8080/",
          "height": 423
        },
        "id": "KdXD--SP7rcd",
        "outputId": "b729142a-c3a1-457c-96e4-632d82f08a2b"
      },
      "execution_count": null,
      "outputs": [
        {
          "output_type": "execute_result",
          "data": {
            "text/plain": [
              "                               Source              Target        Type    id  \\\n",
              "0                      Addam_Marbrand    Cersei_Lannister  Undirected     1   \n",
              "1                      Addam_Marbrand    Tyrion_Lannister  Undirected     9   \n",
              "2                   Aegon_I_Targaryen  Daenerys_Targaryen  Undirected    16   \n",
              "3                   Aegon_I_Targaryen    Tyrion_Lannister  Undirected    23   \n",
              "4    Aegon_Targaryen_(son_of_Rhaegar)  Daenerys_Targaryen  Undirected    25   \n",
              "..                                ...                 ...         ...   ...   \n",
              "681                  Tyrion_Lannister         Willis_Wode  Undirected  2805   \n",
              "682                  Tyrion_Lannister              Yandry  Undirected  2806   \n",
              "683                  Tyrion_Lannister    Yezzan_zo_Qaggaz  Undirected  2807   \n",
              "684                  Tyrion_Lannister               Yoren  Undirected  2808   \n",
              "685                  Tyrion_Lannister              Ysilla  Undirected  2809   \n",
              "\n",
              "     weight  \n",
              "0         3  \n",
              "1         7  \n",
              "2        13  \n",
              "3         3  \n",
              "4        11  \n",
              "..      ...  \n",
              "681       4  \n",
              "682      15  \n",
              "683      17  \n",
              "684      10  \n",
              "685      11  \n",
              "\n",
              "[686 rows x 5 columns]"
            ],
            "text/html": [
              "\n",
              "  <div id=\"df-390e1133-ea77-4686-9623-23ea8b688b87\">\n",
              "    <div class=\"colab-df-container\">\n",
              "      <div>\n",
              "<style scoped>\n",
              "    .dataframe tbody tr th:only-of-type {\n",
              "        vertical-align: middle;\n",
              "    }\n",
              "\n",
              "    .dataframe tbody tr th {\n",
              "        vertical-align: top;\n",
              "    }\n",
              "\n",
              "    .dataframe thead th {\n",
              "        text-align: right;\n",
              "    }\n",
              "</style>\n",
              "<table border=\"1\" class=\"dataframe\">\n",
              "  <thead>\n",
              "    <tr style=\"text-align: right;\">\n",
              "      <th></th>\n",
              "      <th>Source</th>\n",
              "      <th>Target</th>\n",
              "      <th>Type</th>\n",
              "      <th>id</th>\n",
              "      <th>weight</th>\n",
              "    </tr>\n",
              "  </thead>\n",
              "  <tbody>\n",
              "    <tr>\n",
              "      <th>0</th>\n",
              "      <td>Addam_Marbrand</td>\n",
              "      <td>Cersei_Lannister</td>\n",
              "      <td>Undirected</td>\n",
              "      <td>1</td>\n",
              "      <td>3</td>\n",
              "    </tr>\n",
              "    <tr>\n",
              "      <th>1</th>\n",
              "      <td>Addam_Marbrand</td>\n",
              "      <td>Tyrion_Lannister</td>\n",
              "      <td>Undirected</td>\n",
              "      <td>9</td>\n",
              "      <td>7</td>\n",
              "    </tr>\n",
              "    <tr>\n",
              "      <th>2</th>\n",
              "      <td>Aegon_I_Targaryen</td>\n",
              "      <td>Daenerys_Targaryen</td>\n",
              "      <td>Undirected</td>\n",
              "      <td>16</td>\n",
              "      <td>13</td>\n",
              "    </tr>\n",
              "    <tr>\n",
              "      <th>3</th>\n",
              "      <td>Aegon_I_Targaryen</td>\n",
              "      <td>Tyrion_Lannister</td>\n",
              "      <td>Undirected</td>\n",
              "      <td>23</td>\n",
              "      <td>3</td>\n",
              "    </tr>\n",
              "    <tr>\n",
              "      <th>4</th>\n",
              "      <td>Aegon_Targaryen_(son_of_Rhaegar)</td>\n",
              "      <td>Daenerys_Targaryen</td>\n",
              "      <td>Undirected</td>\n",
              "      <td>25</td>\n",
              "      <td>11</td>\n",
              "    </tr>\n",
              "    <tr>\n",
              "      <th>...</th>\n",
              "      <td>...</td>\n",
              "      <td>...</td>\n",
              "      <td>...</td>\n",
              "      <td>...</td>\n",
              "      <td>...</td>\n",
              "    </tr>\n",
              "    <tr>\n",
              "      <th>681</th>\n",
              "      <td>Tyrion_Lannister</td>\n",
              "      <td>Willis_Wode</td>\n",
              "      <td>Undirected</td>\n",
              "      <td>2805</td>\n",
              "      <td>4</td>\n",
              "    </tr>\n",
              "    <tr>\n",
              "      <th>682</th>\n",
              "      <td>Tyrion_Lannister</td>\n",
              "      <td>Yandry</td>\n",
              "      <td>Undirected</td>\n",
              "      <td>2806</td>\n",
              "      <td>15</td>\n",
              "    </tr>\n",
              "    <tr>\n",
              "      <th>683</th>\n",
              "      <td>Tyrion_Lannister</td>\n",
              "      <td>Yezzan_zo_Qaggaz</td>\n",
              "      <td>Undirected</td>\n",
              "      <td>2807</td>\n",
              "      <td>17</td>\n",
              "    </tr>\n",
              "    <tr>\n",
              "      <th>684</th>\n",
              "      <td>Tyrion_Lannister</td>\n",
              "      <td>Yoren</td>\n",
              "      <td>Undirected</td>\n",
              "      <td>2808</td>\n",
              "      <td>10</td>\n",
              "    </tr>\n",
              "    <tr>\n",
              "      <th>685</th>\n",
              "      <td>Tyrion_Lannister</td>\n",
              "      <td>Ysilla</td>\n",
              "      <td>Undirected</td>\n",
              "      <td>2809</td>\n",
              "      <td>11</td>\n",
              "    </tr>\n",
              "  </tbody>\n",
              "</table>\n",
              "<p>686 rows × 5 columns</p>\n",
              "</div>\n",
              "      <button class=\"colab-df-convert\" onclick=\"convertToInteractive('df-390e1133-ea77-4686-9623-23ea8b688b87')\"\n",
              "              title=\"Convert this dataframe to an interactive table.\"\n",
              "              style=\"display:none;\">\n",
              "        \n",
              "  <svg xmlns=\"http://www.w3.org/2000/svg\" height=\"24px\"viewBox=\"0 0 24 24\"\n",
              "       width=\"24px\">\n",
              "    <path d=\"M0 0h24v24H0V0z\" fill=\"none\"/>\n",
              "    <path d=\"M18.56 5.44l.94 2.06.94-2.06 2.06-.94-2.06-.94-.94-2.06-.94 2.06-2.06.94zm-11 1L8.5 8.5l.94-2.06 2.06-.94-2.06-.94L8.5 2.5l-.94 2.06-2.06.94zm10 10l.94 2.06.94-2.06 2.06-.94-2.06-.94-.94-2.06-.94 2.06-2.06.94z\"/><path d=\"M17.41 7.96l-1.37-1.37c-.4-.4-.92-.59-1.43-.59-.52 0-1.04.2-1.43.59L10.3 9.45l-7.72 7.72c-.78.78-.78 2.05 0 2.83L4 21.41c.39.39.9.59 1.41.59.51 0 1.02-.2 1.41-.59l7.78-7.78 2.81-2.81c.8-.78.8-2.07 0-2.86zM5.41 20L4 18.59l7.72-7.72 1.47 1.35L5.41 20z\"/>\n",
              "  </svg>\n",
              "      </button>\n",
              "      \n",
              "  <style>\n",
              "    .colab-df-container {\n",
              "      display:flex;\n",
              "      flex-wrap:wrap;\n",
              "      gap: 12px;\n",
              "    }\n",
              "\n",
              "    .colab-df-convert {\n",
              "      background-color: #E8F0FE;\n",
              "      border: none;\n",
              "      border-radius: 50%;\n",
              "      cursor: pointer;\n",
              "      display: none;\n",
              "      fill: #1967D2;\n",
              "      height: 32px;\n",
              "      padding: 0 0 0 0;\n",
              "      width: 32px;\n",
              "    }\n",
              "\n",
              "    .colab-df-convert:hover {\n",
              "      background-color: #E2EBFA;\n",
              "      box-shadow: 0px 1px 2px rgba(60, 64, 67, 0.3), 0px 1px 3px 1px rgba(60, 64, 67, 0.15);\n",
              "      fill: #174EA6;\n",
              "    }\n",
              "\n",
              "    [theme=dark] .colab-df-convert {\n",
              "      background-color: #3B4455;\n",
              "      fill: #D2E3FC;\n",
              "    }\n",
              "\n",
              "    [theme=dark] .colab-df-convert:hover {\n",
              "      background-color: #434B5C;\n",
              "      box-shadow: 0px 1px 3px 1px rgba(0, 0, 0, 0.15);\n",
              "      filter: drop-shadow(0px 1px 2px rgba(0, 0, 0, 0.3));\n",
              "      fill: #FFFFFF;\n",
              "    }\n",
              "  </style>\n",
              "\n",
              "      <script>\n",
              "        const buttonEl =\n",
              "          document.querySelector('#df-390e1133-ea77-4686-9623-23ea8b688b87 button.colab-df-convert');\n",
              "        buttonEl.style.display =\n",
              "          google.colab.kernel.accessAllowed ? 'block' : 'none';\n",
              "\n",
              "        async function convertToInteractive(key) {\n",
              "          const element = document.querySelector('#df-390e1133-ea77-4686-9623-23ea8b688b87');\n",
              "          const dataTable =\n",
              "            await google.colab.kernel.invokeFunction('convertToInteractive',\n",
              "                                                     [key], {});\n",
              "          if (!dataTable) return;\n",
              "\n",
              "          const docLinkHtml = 'Like what you see? Visit the ' +\n",
              "            '<a target=\"_blank\" href=https://colab.research.google.com/notebooks/data_table.ipynb>data table notebook</a>'\n",
              "            + ' to learn more about interactive tables.';\n",
              "          element.innerHTML = '';\n",
              "          dataTable['output_type'] = 'display_data';\n",
              "          await google.colab.output.renderOutput(dataTable, element);\n",
              "          const docLink = document.createElement('div');\n",
              "          docLink.innerHTML = docLinkHtml;\n",
              "          element.appendChild(docLink);\n",
              "        }\n",
              "      </script>\n",
              "    </div>\n",
              "  </div>\n",
              "  "
            ]
          },
          "metadata": {},
          "execution_count": 18
        }
      ]
    },
    {
      "cell_type": "code",
      "source": [
        "def read_network_data():\n",
        "    edges = pd.read_csv(\"edges_subset.csv\")\n",
        "    nodes = pd.read_csv(\"nodes_subset.csv\")\n",
        "    return nodes, edges\n",
        "\n",
        "def relation_based_pick(ist_class, related_to_char, n):\n",
        "    so = edges[edges.Source == related_to_char][[\"Target\", \"weight\"]].rename({'Target': 'Relation'}, axis=1)\n",
        "    ta = edges[edges.Target == related_to_char][[\"Source\", \"weight\"]].rename({'Source': 'Relation'}, axis=1)\n",
        "\n",
        "    relations = so.append(ta).sort_values(by=\"weight\", ascending=False)[:n]\n",
        "    related_character = random.choices(list(relations[\"Relation\"]), weights=list(relations[\"weight\"]))\n",
        "    return related_character\n",
        "\n",
        "nodes, edges = read_network_data()\n",
        "relation_based_pick(\"text\", 'Cersei_Lannister', 1)"
      ],
      "metadata": {
        "colab": {
          "base_uri": "https://localhost:8080/"
        },
        "id": "8JXi4dQX7eUt",
        "outputId": "835da969-7804-4902-e80d-1f8548f8a498"
      },
      "execution_count": null,
      "outputs": [
        {
          "output_type": "execute_result",
          "data": {
            "text/plain": [
              "['Tyrion_Lannister']"
            ]
          },
          "metadata": {},
          "execution_count": 37
        }
      ]
    },
    {
      "cell_type": "code",
      "source": [
        "relations"
      ],
      "metadata": {
        "colab": {
          "base_uri": "https://localhost:8080/",
          "height": 206
        },
        "id": "KZDshBzw8DY7",
        "outputId": "5c3887d9-8b2e-41a6-cbfd-5a6fc427e742"
      },
      "execution_count": null,
      "outputs": [
        {
          "output_type": "execute_result",
          "data": {
            "text/plain": [
              "              Relation  weight\n",
              "304   Tyrion_Lannister     209\n",
              "303   Tyrion_Lannister     209\n",
              "250  Joffrey_Baratheon     173\n",
              "289   Robert_Baratheon     134\n",
              "290   Robert_Baratheon     134"
            ],
            "text/html": [
              "\n",
              "  <div id=\"df-28d01ed3-bb6c-47a6-b8f8-eaddf4d91037\">\n",
              "    <div class=\"colab-df-container\">\n",
              "      <div>\n",
              "<style scoped>\n",
              "    .dataframe tbody tr th:only-of-type {\n",
              "        vertical-align: middle;\n",
              "    }\n",
              "\n",
              "    .dataframe tbody tr th {\n",
              "        vertical-align: top;\n",
              "    }\n",
              "\n",
              "    .dataframe thead th {\n",
              "        text-align: right;\n",
              "    }\n",
              "</style>\n",
              "<table border=\"1\" class=\"dataframe\">\n",
              "  <thead>\n",
              "    <tr style=\"text-align: right;\">\n",
              "      <th></th>\n",
              "      <th>Relation</th>\n",
              "      <th>weight</th>\n",
              "    </tr>\n",
              "  </thead>\n",
              "  <tbody>\n",
              "    <tr>\n",
              "      <th>304</th>\n",
              "      <td>Tyrion_Lannister</td>\n",
              "      <td>209</td>\n",
              "    </tr>\n",
              "    <tr>\n",
              "      <th>303</th>\n",
              "      <td>Tyrion_Lannister</td>\n",
              "      <td>209</td>\n",
              "    </tr>\n",
              "    <tr>\n",
              "      <th>250</th>\n",
              "      <td>Joffrey_Baratheon</td>\n",
              "      <td>173</td>\n",
              "    </tr>\n",
              "    <tr>\n",
              "      <th>289</th>\n",
              "      <td>Robert_Baratheon</td>\n",
              "      <td>134</td>\n",
              "    </tr>\n",
              "    <tr>\n",
              "      <th>290</th>\n",
              "      <td>Robert_Baratheon</td>\n",
              "      <td>134</td>\n",
              "    </tr>\n",
              "  </tbody>\n",
              "</table>\n",
              "</div>\n",
              "      <button class=\"colab-df-convert\" onclick=\"convertToInteractive('df-28d01ed3-bb6c-47a6-b8f8-eaddf4d91037')\"\n",
              "              title=\"Convert this dataframe to an interactive table.\"\n",
              "              style=\"display:none;\">\n",
              "        \n",
              "  <svg xmlns=\"http://www.w3.org/2000/svg\" height=\"24px\"viewBox=\"0 0 24 24\"\n",
              "       width=\"24px\">\n",
              "    <path d=\"M0 0h24v24H0V0z\" fill=\"none\"/>\n",
              "    <path d=\"M18.56 5.44l.94 2.06.94-2.06 2.06-.94-2.06-.94-.94-2.06-.94 2.06-2.06.94zm-11 1L8.5 8.5l.94-2.06 2.06-.94-2.06-.94L8.5 2.5l-.94 2.06-2.06.94zm10 10l.94 2.06.94-2.06 2.06-.94-2.06-.94-.94-2.06-.94 2.06-2.06.94z\"/><path d=\"M17.41 7.96l-1.37-1.37c-.4-.4-.92-.59-1.43-.59-.52 0-1.04.2-1.43.59L10.3 9.45l-7.72 7.72c-.78.78-.78 2.05 0 2.83L4 21.41c.39.39.9.59 1.41.59.51 0 1.02-.2 1.41-.59l7.78-7.78 2.81-2.81c.8-.78.8-2.07 0-2.86zM5.41 20L4 18.59l7.72-7.72 1.47 1.35L5.41 20z\"/>\n",
              "  </svg>\n",
              "      </button>\n",
              "      \n",
              "  <style>\n",
              "    .colab-df-container {\n",
              "      display:flex;\n",
              "      flex-wrap:wrap;\n",
              "      gap: 12px;\n",
              "    }\n",
              "\n",
              "    .colab-df-convert {\n",
              "      background-color: #E8F0FE;\n",
              "      border: none;\n",
              "      border-radius: 50%;\n",
              "      cursor: pointer;\n",
              "      display: none;\n",
              "      fill: #1967D2;\n",
              "      height: 32px;\n",
              "      padding: 0 0 0 0;\n",
              "      width: 32px;\n",
              "    }\n",
              "\n",
              "    .colab-df-convert:hover {\n",
              "      background-color: #E2EBFA;\n",
              "      box-shadow: 0px 1px 2px rgba(60, 64, 67, 0.3), 0px 1px 3px 1px rgba(60, 64, 67, 0.15);\n",
              "      fill: #174EA6;\n",
              "    }\n",
              "\n",
              "    [theme=dark] .colab-df-convert {\n",
              "      background-color: #3B4455;\n",
              "      fill: #D2E3FC;\n",
              "    }\n",
              "\n",
              "    [theme=dark] .colab-df-convert:hover {\n",
              "      background-color: #434B5C;\n",
              "      box-shadow: 0px 1px 3px 1px rgba(0, 0, 0, 0.15);\n",
              "      filter: drop-shadow(0px 1px 2px rgba(0, 0, 0, 0.3));\n",
              "      fill: #FFFFFF;\n",
              "    }\n",
              "  </style>\n",
              "\n",
              "      <script>\n",
              "        const buttonEl =\n",
              "          document.querySelector('#df-28d01ed3-bb6c-47a6-b8f8-eaddf4d91037 button.colab-df-convert');\n",
              "        buttonEl.style.display =\n",
              "          google.colab.kernel.accessAllowed ? 'block' : 'none';\n",
              "\n",
              "        async function convertToInteractive(key) {\n",
              "          const element = document.querySelector('#df-28d01ed3-bb6c-47a6-b8f8-eaddf4d91037');\n",
              "          const dataTable =\n",
              "            await google.colab.kernel.invokeFunction('convertToInteractive',\n",
              "                                                     [key], {});\n",
              "          if (!dataTable) return;\n",
              "\n",
              "          const docLinkHtml = 'Like what you see? Visit the ' +\n",
              "            '<a target=\"_blank\" href=https://colab.research.google.com/notebooks/data_table.ipynb>data table notebook</a>'\n",
              "            + ' to learn more about interactive tables.';\n",
              "          element.innerHTML = '';\n",
              "          dataTable['output_type'] = 'display_data';\n",
              "          await google.colab.output.renderOutput(dataTable, element);\n",
              "          const docLink = document.createElement('div');\n",
              "          docLink.innerHTML = docLinkHtml;\n",
              "          element.appendChild(docLink);\n",
              "        }\n",
              "      </script>\n",
              "    </div>\n",
              "  </div>\n",
              "  "
            ]
          },
          "metadata": {},
          "execution_count": 35
        }
      ]
    },
    {
      "cell_type": "markdown",
      "source": [
        "Even though this approach represents the dynamics of the series, it does not provide information on the nature of the relation. For example, Ned Stark is the top candidate to be Cersei Lannister's \"mentor\", even though they are enemies. Therefore, we need a different approach to identify positive/negative relations."
      ],
      "metadata": {
        "id": "ydgKuulnCa3T"
      }
    },
    {
      "cell_type": "markdown",
      "source": [
        "\n",
        "\n",
        "---\n",
        "\n",
        "## Using Game of Thrones Fandom Wiki\n",
        "\n",
        "Fandom Wiki contains more detailed information about the dynamics of the series, with information such as family relations and love interests. Using the info bar, we can scrape such information to generate a graph. However, the information stored there is unstructured and inconsistent, and requires a lot of manual processing. "
      ],
      "metadata": {
        "id": "_d04yWz7CaCf"
      }
    },
    {
      "cell_type": "code",
      "source": [
        "import requests\n",
        "from bs4 import BeautifulSoup"
      ],
      "metadata": {
        "id": "pk1lZ0fzJKt7"
      },
      "execution_count": null,
      "outputs": []
    },
    {
      "cell_type": "code",
      "source": [
        "wikiurl=\"https://gameofthrones.fandom.com/wiki/Jon_Snow\"\n",
        "table_class=\"wikitable sortable jquery-tablesorter\"\n",
        "response=requests.get(wikiurl)\n",
        "\n",
        "soup = BeautifulSoup(response.text, 'html.parser')\n",
        "table_text =soup.find('aside',{'class':\"portable-infobox\"}).text\n",
        "print(table_text)"
      ],
      "metadata": {
        "id": "yQy-S-VBJWkF",
        "colab": {
          "base_uri": "https://localhost:8080/"
        },
        "outputId": "9d654ee3-d51b-41fe-9132-eddfd469e9a1"
      },
      "execution_count": null,
      "outputs": [
        {
          "output_type": "stream",
          "name": "stdout",
          "text": [
            "\n",
            "Jon Snow\n",
            "\n",
            "\n",
            "\n",
            "\n",
            "\n",
            "\n",
            "Biographical information\n",
            "\n",
            "Status\n",
            "Alive\n",
            "\n",
            "\n",
            "Born\n",
            "Aegon Targaryen280 AC (age 25) at the Tower of Joy\n",
            "\n",
            "\n",
            "Died\n",
            "302 AC at Castle BlackStabbed to death by his own men in a mutiny (later resurrected)\n",
            "\n",
            "\n",
            "\n",
            "Political information\n",
            "\n",
            "Allegiance\n",
            "House Targaryen (by birth)House Stark (raised)Night's Watch\n",
            "\n",
            "\n",
            "Title(s)\n",
            "998th Lord Commander of the Night's Watch (formerly)King in the North (formerly)Warden of the North (formerly)\n",
            "\n",
            "\n",
            "Predecessor(s)\n",
            "{Jeor Mormont} (Lord Commander){Robb Stark} (King in the North){Ramsay Bolton} (Warden of the North)\n",
            "\n",
            "\n",
            "Successor(s)\n",
            "{Eddison Tollett} (acting Lord Commander)Sansa Stark (Queen in the North)\n",
            "\n",
            "\n",
            "\n",
            "Personal information\n",
            "\n",
            "Also known as\n",
            "Lord SnowThe Bastard of WinterfellKing CrowThe Prince That Was PromisedThe White Wolf\n",
            "\n",
            "\n",
            "Culture\n",
            "Northman\n",
            "\n",
            "\n",
            "Religion\n",
            "Old Gods of the Forest\n",
            "\n",
            "\n",
            "Father\n",
            "{Rhaegar Targaryen} (biological){Eddard Stark} (adoptive)\n",
            "\n",
            "\n",
            "Mother\n",
            "{Lyanna Stark}\n",
            "\n",
            "\n",
            "Lover(s)\n",
            "{Ygritte}{Daenerys I Targaryen}\n",
            "\n",
            "\n",
            "Sibling(s)\n",
            "Paternal half-siblings:{Rhaenys Targaryen}{Aegon Targaryen}Maternal cousins raised as half-siblings:{Robb Stark}Sansa StarkArya StarkBran I the Broken{Rickon Stark}\n",
            "\n",
            "\n",
            "\n",
            "Behind the scenes information\n",
            "\n",
            "Series\n",
            "Game of Thrones\n",
            "\n",
            "\n",
            "Season(s)\n",
            "1, 2, 3, 4, 5, 6, 7, 8\n",
            "\n",
            "\n",
            "Appeared in\n",
            "63 episodes (see below)\n",
            "\n",
            "\n",
            "First seen\n",
            "\"Winter Is Coming\"\n",
            "\n",
            "\n",
            "Last seen\n",
            "\"The Iron Throne\"\n",
            "\n",
            "\n",
            "Death shown in\n",
            "\"Mother's Mercy\"\n",
            "\n",
            "\n",
            "Mentioned in\n",
            "\"Greyjoy Rebellion\"\"Robert's Rebellion\"\"The North\"\"The Hand of the King\"\n",
            "\n",
            "\n",
            "Portrayed by\n",
            "Kit Harington\n",
            "\n",
            "\n",
            "\n"
          ]
        }
      ]
    },
    {
      "cell_type": "code",
      "source": [
        "import re\n",
        "\n",
        "important_info = [\"Allegiance\",\"Title\",\"Predecessor\",\"Successor\",\"Also known as\", \"Culture\", \"Religion\", \"Father\",\"Mother\", \"Lover\", \"Spouse\",\"Child(ren)\",\"Sibling\"]\n",
        "\n",
        "info_title = \"\"\n",
        "character_info = {}\n",
        "for line in table_text.split(\"\\n\\n\\n\"):\n",
        "  #print(repr(line))\n",
        "  line = line.replace(')', ')\\t')\n",
        "  line = line.replace('}', '\\t').replace('{', '')\n",
        "  for point in line.split(\"\\n\"):\n",
        "    #print(repr(point.strip(\"\\t\")))\n",
        "    if info_title:\n",
        "      ###detail = re.findall(r'\\([^)]*\\)', str(point))\n",
        "      point = re.sub(r'\\([^)]*\\)', '', point)\n",
        "      info = list(filter(None, point.split(\"\\t\")))\n",
        "      \n",
        "      if len(info) == 1:\n",
        "        character_info[info_title] = info[0]\n",
        "      else:\n",
        "        info = [(i.strip() if i != \" \" else \"\") for i in info]\n",
        "        info = list(filter(None, info))\n",
        "        character_info[info_title] = info\n",
        "      info_title = \"\"\n",
        "\n",
        "    if point.strip(\"\\t\").strip(\"(s)\") in important_info:\n",
        "      info_title = point.strip(\"\\t\").strip(\"(s)\")\n",
        "\n",
        "character_info"
      ],
      "metadata": {
        "colab": {
          "base_uri": "https://localhost:8080/"
        },
        "id": "PJFeNYoDZOmO",
        "outputId": "80a322b9-87cf-4efd-98a0-781cf7d52f9d"
      },
      "execution_count": null,
      "outputs": [
        {
          "output_type": "execute_result",
          "data": {
            "text/plain": [
              "{'Allegiance': ['House Targaryen', 'House Stark', \"Night's Watch\"],\n",
              " 'Culture': 'Northman',\n",
              " 'Father': ['Rhaegar Targaryen', 'Eddard Stark'],\n",
              " 'Lover': ['Ygritte', 'Daenerys I Targaryen'],\n",
              " 'Mother': 'Lyanna Stark',\n",
              " 'Predecessor': ['Jeor Mormont', 'Robb Stark', 'Ramsay Bolton'],\n",
              " 'Religion': 'Old Gods of the Forest',\n",
              " 'Sibling': ['Paternal half-siblings:Rhaenys Targaryen',\n",
              "  'Aegon Targaryen',\n",
              "  'Maternal cousins raised as half-siblings:Robb Stark',\n",
              "  'Sansa StarkArya StarkBran I the BrokenRickon Stark'],\n",
              " 'Successor': ['Eddison Tollett', 'Sansa Stark'],\n",
              " 'Title': [\"998th Lord Commander of the Night's Watch\",\n",
              "  'King in the North',\n",
              "  'Warden of the North']}"
            ]
          },
          "metadata": {},
          "execution_count": 6
        }
      ]
    },
    {
      "cell_type": "code",
      "source": [
        "def get_wiki_page(character_id, character_label):\n",
        "  wikiurl=\"https://gameofthrones.fandom.com/wiki/\"+character_id\n",
        "  table_class=\"wikitable sortable jquery-tablesorter\"\n",
        "  response=requests.get(wikiurl)\n",
        "  #print(response)\n",
        "  soup = BeautifulSoup(response.text, 'html.parser')\n",
        "  try:\n",
        "    table_text =soup.find('aside',{'class':\"portable-infobox\"}).text\n",
        "    #print(repr(table_text))\n",
        "\n",
        "  except:\n",
        "    wikiurl=\"https://gameofthrones.fandom.com/wiki/\"+character_label.replace(\" \", \"_\")\n",
        "    table_class=\"wikitable sortable jquery-tablesorter\"\n",
        "    response=requests.get(wikiurl)\n",
        "    #print(response)\n",
        "    soup = BeautifulSoup(response.text, 'html.parser')\n",
        "    try:\n",
        "      table_text =soup.find('aside',{'class':\"portable-infobox\"}).text\n",
        "    except:\n",
        "      print(character_id)"
      ],
      "metadata": {
        "id": "i9R-hbrAJraK"
      },
      "execution_count": null,
      "outputs": []
    },
    {
      "cell_type": "markdown",
      "source": [
        "## Using Wikidata information on Game of Thrones characters\n",
        "\n",
        "Wikidata provides well-structured information about the characters. However, information is more surface-level (e.g. family or formal partners) and does not contain certain details (e.g. enemies or allies).\n",
        "\n",
        "We manually investigate the interesting properties to include, and note their IDs to use for querying. We also create a list of main characters and their IDs for more detailed extraction, whereas side characters that are related to main characters will not contain any additional info."
      ],
      "metadata": {
        "id": "sM1MwHaxKUPY"
      }
    },
    {
      "cell_type": "code",
      "source": [
        "!pip install wikidata\n",
        "\n",
        "from wikidata.client import Client\n",
        "client = Client()  # doctest: +SKIP\n",
        "entity = client.get('Q3183235', load=True)\n",
        "entity\n"
      ],
      "metadata": {
        "colab": {
          "base_uri": "https://localhost:8080/"
        },
        "id": "RYMHrb-zKWrC",
        "outputId": "6ba6b385-3b8c-4214-e3fc-417642d5b68a"
      },
      "execution_count": null,
      "outputs": [
        {
          "output_type": "stream",
          "name": "stdout",
          "text": [
            "Collecting wikidata\n",
            "  Downloading Wikidata-0.7.0-py3-none-any.whl (29 kB)\n",
            "Installing collected packages: wikidata\n",
            "Successfully installed wikidata-0.7.0\n"
          ]
        },
        {
          "output_type": "execute_result",
          "data": {
            "text/plain": [
              "<wikidata.entity.Entity Q3183235 'Jon Snow'>"
            ]
          },
          "metadata": {},
          "execution_count": 8
        }
      ]
    },
    {
      "cell_type": "markdown",
      "source": [
        "### Promising part"
      ],
      "metadata": {
        "id": "-5ux2t83yAet"
      }
    },
    {
      "cell_type": "code",
      "source": [
        "from string import Template\n",
        "\n",
        "query_template = Template(\"\"\"SELECT ?o ?oLabel WHERE {wd:$char wdt:$p ?o . SERVICE wikibase:label { bd:serviceParam wikibase:language \"en\". }}\"\"\")\n",
        "\n",
        "query_template_q = Template(\"\"\"SELECT ?o ?oLabel ?q ?qLabel WHERE {wd:$char p:$p [ps:$p ?o; pq:$pq ?q; ]. SERVICE wikibase:label { bd:serviceParam wikibase:language \"en\". }}\"\"\")\n",
        " \n",
        "# Substitute value of x in above template\n",
        "char_id = 'Q2708078'\n",
        "p = 'P3373'\n",
        "pq = 'P1039'\n",
        "\n",
        "print(query_template.substitute({'char': char_id, 'p': p}))\n",
        "print(query_template_q.substitute({'char': char_id, 'p': p, 'pq':pq}))"
      ],
      "metadata": {
        "colab": {
          "base_uri": "https://localhost:8080/"
        },
        "id": "Ihu17cr6XgMo",
        "outputId": "b8e0f53c-ab51-4d4d-a555-edef1a47d9d2"
      },
      "execution_count": null,
      "outputs": [
        {
          "output_type": "stream",
          "name": "stdout",
          "text": [
            "SELECT ?o ?oLabel WHERE {wd:Q2708078 wdt:P3373 ?o . SERVICE wikibase:label { bd:serviceParam wikibase:language \"en\". }}\n",
            "SELECT ?o ?oLabel ?q ?qLabel WHERE {wd:Q2708078 p:P3373 [ps:P3373 ?o; pq:P1039 ?q; ]. SERVICE wikibase:label { bd:serviceParam wikibase:language \"en\". }}\n"
          ]
        }
      ]
    },
    {
      "cell_type": "code",
      "source": [
        "!pip install SPARQLWrapper\n",
        "import sys\n",
        "import re\n",
        "from SPARQLWrapper import SPARQLWrapper, JSON\n",
        "\n",
        "endpoint_url = \"https://query.wikidata.org/sparql\"\n",
        "\n",
        "def get_results(endpoint_url, query):\n",
        "    user_agent = \"WDQS-example Python/%s.%s\" % (sys.version_info[0], sys.version_info[1])\n",
        "    # TODO adjust user agent; see https://w.wiki/CX6\n",
        "    sparql = SPARQLWrapper(endpoint_url, agent=user_agent)\n",
        "    sparql.setQuery(query)\n",
        "    sparql.setReturnFormat(JSON)\n",
        "    return sparql.query().convert()\n"
      ],
      "metadata": {
        "colab": {
          "base_uri": "https://localhost:8080/"
        },
        "id": "ZO2prV9DXgJN",
        "outputId": "53244d11-fb03-401c-9a42-78fd08ac0936"
      },
      "execution_count": null,
      "outputs": [
        {
          "output_type": "stream",
          "name": "stdout",
          "text": [
            "Collecting SPARQLWrapper\n",
            "  Downloading SPARQLWrapper-2.0.0-py3-none-any.whl (28 kB)\n",
            "Collecting rdflib>=6.1.1\n",
            "  Downloading rdflib-6.1.1-py3-none-any.whl (482 kB)\n",
            "\u001b[K     |████████████████████████████████| 482 kB 10.7 MB/s \n",
            "\u001b[?25hCollecting isodate\n",
            "  Downloading isodate-0.6.1-py2.py3-none-any.whl (41 kB)\n",
            "\u001b[K     |████████████████████████████████| 41 kB 729 kB/s \n",
            "\u001b[?25hRequirement already satisfied: pyparsing in /usr/local/lib/python3.7/dist-packages (from rdflib>=6.1.1->SPARQLWrapper) (3.0.7)\n",
            "Requirement already satisfied: setuptools in /usr/local/lib/python3.7/dist-packages (from rdflib>=6.1.1->SPARQLWrapper) (57.4.0)\n",
            "Requirement already satisfied: importlib-metadata in /usr/local/lib/python3.7/dist-packages (from rdflib>=6.1.1->SPARQLWrapper) (4.11.3)\n",
            "Requirement already satisfied: typing-extensions>=3.6.4 in /usr/local/lib/python3.7/dist-packages (from importlib-metadata->rdflib>=6.1.1->SPARQLWrapper) (3.10.0.2)\n",
            "Requirement already satisfied: zipp>=0.5 in /usr/local/lib/python3.7/dist-packages (from importlib-metadata->rdflib>=6.1.1->SPARQLWrapper) (3.7.0)\n",
            "Requirement already satisfied: six in /usr/local/lib/python3.7/dist-packages (from isodate->rdflib>=6.1.1->SPARQLWrapper) (1.15.0)\n",
            "Installing collected packages: isodate, rdflib, SPARQLWrapper\n",
            "Successfully installed SPARQLWrapper-2.0.0 isodate-0.6.1 rdflib-6.1.1\n"
          ]
        }
      ]
    },
    {
      "cell_type": "code",
      "source": [
        "info_lst =  {'father' : {'p': 'P22', 'range':'Character'},\n",
        "             'mother' : {'p' : 'P25', 'range':'Character'},\n",
        "             'sibling' : {'p' : 'P3373', 'range':'Character'} ,\n",
        "             'child' : {'p' : 'P40', 'range':'Character'} ,\n",
        "             'partner' : {'p': 'P451', 'range':'Character'},\n",
        "             'spouse' : {'p' : 'P26', 'range':'Character'} ,\n",
        "             'relative': {'p': 'P1038', 'range':'Character'},\n",
        "##             'relative': {'p': 'P1038', 'pq': 'P1039'},\n",
        "             'family' : {'p': 'P53', 'range':'House'},\n",
        "             'occupation': {'p':'P106', 'range':'Occupation'},\n",
        "             'title' : {'p' : 'P97', 'range': 'Title'},\n",
        "             'place_of_death' : {'p': 'P20', 'range':'Place'},\n",
        "             'cause_of_death': {'p': 'P509', 'range':'Cause_of_death'},\n",
        "             'battles_participated' : {'p': 'P607', 'range':'Battle'}}\n",
        "\n",
        "main_characters = {\"Jon_Snow\": \"Q3183235\",\n",
        "                   \"Daenerys_Targaryen\": \"Q2708078\",\n",
        "                   \"Arya_Stark\": \"Q3624677\",\n",
        "                   \"Bran_Stark\": \"Q3643599\",\n",
        "                   \"Cersei_Lannister\": \"Q3665163\", \n",
        "                   \"Tyrion_Lannister\" : \"Q2076759\",\n",
        "                   \"Margaery_Tyrell\": \"Q12900933\",\n",
        "                   \"Petyr_Baelish\": \"Q4360302\",\n",
        "                   \"Robert_Baratheon\" : \"Q13634885\"}\n",
        "\n",
        "\n",
        "def generate_query(char_id):\n",
        "  char_query = {}\n",
        "  for label in info_lst.keys():\n",
        "    query_dict = {'char':char_id, 'p': info_lst[label]['p']}\n",
        "    try:\n",
        "      query_dict['pq'] = info_lst[label]['pq']\n",
        "      char_query[label] = query_template_q.substitute(query_dict)\n",
        "    except:\n",
        "      char_query[label] = query_template.substitute(query_dict)\n",
        "\n",
        "  return char_query\n",
        "\n",
        "\n",
        "def query_wikidata(char_query):\n",
        "  results = {}\n",
        "  for label in char_query.keys():\n",
        "    if \"pq\" in char_query[label]:\n",
        "      results[label] = [[result['oLabel']['value'], result['qLabel']['value']] for result in get_results(endpoint_url, char_query[label])['results']['bindings']]\n",
        "    else:\n",
        "      results[label] = [result['oLabel']['value'] for result in get_results(endpoint_url, char_query[label])['results']['bindings']]\n",
        "    \n",
        "  return results"
      ],
      "metadata": {
        "id": "8H60JPneXgLM"
      },
      "execution_count": null,
      "outputs": []
    },
    {
      "cell_type": "code",
      "source": [
        "print(generate_query(\"Q2708078\"))\n",
        "print(query_wikidata(generate_query(\"Q2708078\")))"
      ],
      "metadata": {
        "colab": {
          "base_uri": "https://localhost:8080/"
        },
        "id": "Z-mTUMmLJGKJ",
        "outputId": "20a37d8f-f9ef-418f-d268-f8767e6adc93"
      },
      "execution_count": null,
      "outputs": [
        {
          "output_type": "stream",
          "name": "stdout",
          "text": [
            "{'father': 'SELECT ?o ?oLabel WHERE {wd:Q2708078 wdt:P22 ?o . SERVICE wikibase:label { bd:serviceParam wikibase:language \"en\". }}', 'mother': 'SELECT ?o ?oLabel WHERE {wd:Q2708078 wdt:P25 ?o . SERVICE wikibase:label { bd:serviceParam wikibase:language \"en\". }}', 'sibling': 'SELECT ?o ?oLabel WHERE {wd:Q2708078 wdt:P3373 ?o . SERVICE wikibase:label { bd:serviceParam wikibase:language \"en\". }}', 'child': 'SELECT ?o ?oLabel WHERE {wd:Q2708078 wdt:P40 ?o . SERVICE wikibase:label { bd:serviceParam wikibase:language \"en\". }}', 'partner': 'SELECT ?o ?oLabel WHERE {wd:Q2708078 wdt:P451 ?o . SERVICE wikibase:label { bd:serviceParam wikibase:language \"en\". }}', 'spouse': 'SELECT ?o ?oLabel WHERE {wd:Q2708078 wdt:P26 ?o . SERVICE wikibase:label { bd:serviceParam wikibase:language \"en\". }}', 'relative': 'SELECT ?o ?oLabel WHERE {wd:Q2708078 wdt:P1038 ?o . SERVICE wikibase:label { bd:serviceParam wikibase:language \"en\". }}', 'family': 'SELECT ?o ?oLabel WHERE {wd:Q2708078 wdt:P53 ?o . SERVICE wikibase:label { bd:serviceParam wikibase:language \"en\". }}', 'occupation': 'SELECT ?o ?oLabel WHERE {wd:Q2708078 wdt:P106 ?o . SERVICE wikibase:label { bd:serviceParam wikibase:language \"en\". }}', 'title': 'SELECT ?o ?oLabel WHERE {wd:Q2708078 wdt:P97 ?o . SERVICE wikibase:label { bd:serviceParam wikibase:language \"en\". }}', 'place_of_death': 'SELECT ?o ?oLabel WHERE {wd:Q2708078 wdt:P20 ?o . SERVICE wikibase:label { bd:serviceParam wikibase:language \"en\". }}', 'cause_of_death': 'SELECT ?o ?oLabel WHERE {wd:Q2708078 wdt:P509 ?o . SERVICE wikibase:label { bd:serviceParam wikibase:language \"en\". }}', 'battles_participated': 'SELECT ?o ?oLabel WHERE {wd:Q2708078 wdt:P607 ?o . SERVICE wikibase:label { bd:serviceParam wikibase:language \"en\". }}'}\n",
            "{'father': ['Aerys II Targaryen'], 'mother': ['Rhaella Targaryen'], 'sibling': ['Viserys Targaryen', 'Rhaegar Targaryen'], 'child': [], 'partner': ['Jon Snow', 'Daario Naharis'], 'spouse': ['Khal Drogo', 'Hizdahr zo Loraq'], 'relative': [], 'family': ['House Targaryen'], 'occupation': ['ruler', 'revolutionary'], 'title': ['fictional princess'], 'place_of_death': [], 'cause_of_death': [], 'battles_participated': []}\n"
          ]
        }
      ]
    },
    {
      "cell_type": "code",
      "source": [
        "def generate_side_character_rdf(prop, line):\n",
        "  if not line in main_characters: \n",
        "    return \"HERO:\"+line+\" a HERO:\"+info_lst[prop]['range']+\" .\\n\"\n",
        "\n",
        "def generate_main_char_rdf(character, output, general_instances):\n",
        "  rdf = \":\"+character.replace(\" \", \"_\") + \" a HERO:Main_Character;\\n\"\n",
        "  for prop in output.keys():\n",
        "    for line in output[prop]:\n",
        "      if len(output[prop][0])==2:\n",
        "        rdf += \"\\tHERO:\"+prop+\" HERO:\"+line[0].replace(\" \", \"_\") +\" ;\\n\"\n",
        "        rdf += \"\\tHERO:\"+line[1].replace(\" \", \"_\")+\" HERO:\"+line[0].replace(\" \", \"_\") +\" ;\\n\"\n",
        "        general_instances.add(line[0].replace(\" \", \"_\"))\n",
        "      else:\n",
        "        rdf += \"\\tHERO:\"+prop+\" HERO:\"+line.replace(\" \", \"_\") +\" ;\\n\"\n",
        "        general_instances.add(generate_side_character_rdf(prop, line.replace(\" \", \"_\")))\n",
        "  rdf += \".\"\n",
        "  \n",
        "  return rdf\n",
        "\n",
        "general_instances = set()\n",
        "print(generate_main_char_rdf(\"Jon_Snow\", query_wikidata(generate_query(\"Q2708078\")), general_instances))\n",
        "general_instances"
      ],
      "metadata": {
        "colab": {
          "base_uri": "https://localhost:8080/"
        },
        "id": "TtZh6S5y1Ihx",
        "outputId": "6f00417d-838b-42fd-8ad8-5a0c00497667"
      },
      "execution_count": null,
      "outputs": [
        {
          "output_type": "stream",
          "name": "stdout",
          "text": [
            ":Jon_Snow a HERO:Main_Character;\n",
            "\tHERO:father HERO:Aerys_II_Targaryen ;\n",
            "\tHERO:mother HERO:Rhaella_Targaryen ;\n",
            "\tHERO:sibling HERO:Viserys_Targaryen ;\n",
            "\tHERO:sibling HERO:Rhaegar_Targaryen ;\n",
            "\tHERO:partner HERO:Jon_Snow ;\n",
            "\tHERO:partner HERO:Daario_Naharis ;\n",
            "\tHERO:spouse HERO:Khal_Drogo ;\n",
            "\tHERO:spouse HERO:Hizdahr_zo_Loraq ;\n",
            "\tHERO:family HERO:House_Targaryen ;\n",
            "\tHERO:occupation HERO:ruler ;\n",
            "\tHERO:occupation HERO:revolutionary ;\n",
            "\tHERO:title HERO:fictional_princess ;\n",
            ".\n"
          ]
        },
        {
          "output_type": "execute_result",
          "data": {
            "text/plain": [
              "{'HERO:Aerys_II_Targaryen a HERO:Character .\\n',\n",
              " 'HERO:Daario_Naharis a HERO:Character .\\n',\n",
              " 'HERO:Hizdahr_zo_Loraq a HERO:Character .\\n',\n",
              " 'HERO:House_Targaryen a HERO:House .\\n',\n",
              " 'HERO:Khal_Drogo a HERO:Character .\\n',\n",
              " 'HERO:Rhaegar_Targaryen a HERO:Character .\\n',\n",
              " 'HERO:Rhaella_Targaryen a HERO:Character .\\n',\n",
              " 'HERO:Viserys_Targaryen a HERO:Character .\\n',\n",
              " 'HERO:fictional_princess a HERO:Title .\\n',\n",
              " 'HERO:revolutionary a HERO:Occupation .\\n',\n",
              " 'HERO:ruler a HERO:Occupation .\\n',\n",
              " None}"
            ]
          },
          "metadata": {},
          "execution_count": 13
        }
      ]
    },
    {
      "cell_type": "code",
      "source": [
        "def just_please_work(main_characters):\n",
        "  rdf = \"\"\" @base <http://hero_ontology/> .\n",
        "            @prefix HERO: <http://hero_ontology/> .\n",
        "            @prefix rdf: <http://www.w3.org/1999/02/22-rdf-syntax-ns#> .\n",
        "            @prefix rdfs: <http://www.w3.org/2000/01/rdf-schema#> .\n",
        "            @prefix owl: <http://www.w3.org/2002/07/owl#> .\n",
        "            @prefix sem: <http://semanticweb.cs.vu.nl/2009/11/sem/> .\n",
        "        \"\"\"\n",
        "\n",
        "  general = set()\n",
        "  for character in main_characters.keys():\n",
        "    print(character)\n",
        "    char_id = main_characters[character]\n",
        "    output = query_wikidata(generate_query(char_id))\n",
        "    rdf += \"#### \" + character + \" ####\\n\" + generate_main_char_rdf(character, output, general) + \"\\n\\n\"\n",
        "\n",
        "  print(\"Main characters added.\")\n",
        "\n",
        "  for line in general:\n",
        "    if line:\n",
        "     rdf += line\n",
        "\n",
        "  return re.sub(r\"[()\\'\\,]\", \"\", rdf)\n",
        "\n",
        "instance_rdf = just_please_work(main_characters)\n",
        "text_file = open(\"got_instances.ttl\", \"w\")\n",
        "text_file.write(instance_rdf)\n",
        "text_file.close()\n",
        "\n",
        "print(instance_rdf)"
      ],
      "metadata": {
        "colab": {
          "base_uri": "https://localhost:8080/"
        },
        "id": "Tg066RZJCa3V",
        "outputId": "789f3457-0302-405e-e175-ccb78341a391"
      },
      "execution_count": null,
      "outputs": [
        {
          "output_type": "stream",
          "name": "stdout",
          "text": [
            "Jon_Snow\n",
            "Daenerys_Targaryen\n",
            "Arya_Stark\n",
            "Bran_Stark\n",
            "Cersei_Lannister\n",
            "Tyrion_Lannister\n",
            "Margaery_Tyrell\n",
            "Petyr_Baelish\n",
            "Robert_Baratheon\n",
            "Main characters added.\n",
            " @base <http://hero_ontology/> .\n",
            "            @prefix HERO: <http://hero_ontology/> .\n",
            "            @prefix rdf: <http://www.w3.org/1999/02/22-rdf-syntax-ns#> .\n",
            "            @prefix rdfs: <http://www.w3.org/2000/01/rdf-schema#> .\n",
            "            @prefix owl: <http://www.w3.org/2002/07/owl#> .\n",
            "            @prefix sem: <http://semanticweb.cs.vu.nl/2009/11/sem/> .\n",
            "        #### Jon_Snow ####\n",
            ":Jon_Snow a HERO:Main_Character;\n",
            "\tHERO:father HERO:Rhaegar_Targaryen ;\n",
            "\tHERO:mother HERO:Lyanna_Stark ;\n",
            "\tHERO:sibling HERO:Rhaenys_Targaryen_daughter_of_Rhaegar ;\n",
            "\tHERO:sibling HERO:Aegon_Targaryen ;\n",
            "\tHERO:partner HERO:Daenerys_Targaryen ;\n",
            "\tHERO:partner HERO:Ygritte ;\n",
            "\tHERO:relative HERO:Eddard_Stark ;\n",
            "\tHERO:relative HERO:Daenerys_Targaryen ;\n",
            "\tHERO:relative HERO:Viserys_Targaryen ;\n",
            "\tHERO:relative HERO:Aerys_II_Targaryen ;\n",
            "\tHERO:relative HERO:Rhaella_Targaryen ;\n",
            "\tHERO:relative HERO:Rickard_Stark ;\n",
            "\tHERO:relative HERO:Lyarra_Stark ;\n",
            "\tHERO:relative HERO:Benjen_Stark ;\n",
            "\tHERO:family HERO:House_Targaryen ;\n",
            "\tHERO:family HERO:House_Stark ;\n",
            "\tHERO:occupation HERO:squire ;\n",
            "\tHERO:occupation HERO:ruler ;\n",
            "\tHERO:occupation HERO:soldier ;\n",
            "\tHERO:occupation HERO:spy ;\n",
            "\tHERO:title HERO:Lord ;\n",
            "\tHERO:title HERO:fictional_king ;\n",
            "\tHERO:place_of_death HERO:Castle_Black ;\n",
            "\tHERO:cause_of_death HERO:stabbing ;\n",
            "\tHERO:battles_participated HERO:Battle_of_Castle_Black ;\n",
            "\tHERO:battles_participated HERO:Battle_of_the_Bastards ;\n",
            ".\n",
            "\n",
            "#### Daenerys_Targaryen ####\n",
            ":Daenerys_Targaryen a HERO:Main_Character;\n",
            "\tHERO:father HERO:Aerys_II_Targaryen ;\n",
            "\tHERO:mother HERO:Rhaella_Targaryen ;\n",
            "\tHERO:sibling HERO:Viserys_Targaryen ;\n",
            "\tHERO:sibling HERO:Rhaegar_Targaryen ;\n",
            "\tHERO:partner HERO:Jon_Snow ;\n",
            "\tHERO:partner HERO:Daario_Naharis ;\n",
            "\tHERO:spouse HERO:Khal_Drogo ;\n",
            "\tHERO:spouse HERO:Hizdahr_zo_Loraq ;\n",
            "\tHERO:family HERO:House_Targaryen ;\n",
            "\tHERO:occupation HERO:ruler ;\n",
            "\tHERO:occupation HERO:revolutionary ;\n",
            "\tHERO:title HERO:fictional_princess ;\n",
            ".\n",
            "\n",
            "#### Arya_Stark ####\n",
            ":Arya_Stark a HERO:Main_Character;\n",
            "\tHERO:father HERO:Eddard_Stark ;\n",
            "\tHERO:mother HERO:Catelyn_Stark ;\n",
            "\tHERO:sibling HERO:Sansa_Stark ;\n",
            "\tHERO:sibling HERO:Bran_Stark ;\n",
            "\tHERO:sibling HERO:Rickon_Stark ;\n",
            "\tHERO:sibling HERO:Robb_Stark ;\n",
            "\tHERO:family HERO:House_Stark ;\n",
            "\tHERO:occupation HERO:warrior ;\n",
            "\tHERO:occupation HERO:mass_murderer ;\n",
            "\tHERO:occupation HERO:fictional_vigilante ;\n",
            "\tHERO:occupation HERO:assassin ;\n",
            ".\n",
            "\n",
            "#### Bran_Stark ####\n",
            ":Bran_Stark a HERO:Main_Character;\n",
            "\tHERO:father HERO:Eddard_Stark ;\n",
            "\tHERO:mother HERO:Catelyn_Stark ;\n",
            "\tHERO:sibling HERO:Sansa_Stark ;\n",
            "\tHERO:sibling HERO:Arya_Stark ;\n",
            "\tHERO:sibling HERO:Rickon_Stark ;\n",
            "\tHERO:sibling HERO:Robb_Stark ;\n",
            "\tHERO:family HERO:House_Stark ;\n",
            "\tHERO:occupation HERO:prophet ;\n",
            ".\n",
            "\n",
            "#### Cersei_Lannister ####\n",
            ":Cersei_Lannister a HERO:Main_Character;\n",
            "\tHERO:father HERO:Tywin_Lannister ;\n",
            "\tHERO:mother HERO:Joanna_Lannister ;\n",
            "\tHERO:sibling HERO:Tyrion_Lannister ;\n",
            "\tHERO:sibling HERO:Jaime_Lannister ;\n",
            "\tHERO:child HERO:Joffrey_Baratheon ;\n",
            "\tHERO:child HERO:Tommen_Baratheon ;\n",
            "\tHERO:child HERO:Myrcella_Baratheon ;\n",
            "\tHERO:partner HERO:Jaime_Lannister ;\n",
            "\tHERO:partner HERO:Lancel_Lannister ;\n",
            "\tHERO:partner HERO:Euron_Greyjoy ;\n",
            "\tHERO:spouse HERO:Robert_Baratheon ;\n",
            "\tHERO:family HERO:House_Baratheon ;\n",
            "\tHERO:family HERO:House_Lannister ;\n",
            "\tHERO:occupation HERO:regent ;\n",
            "\tHERO:occupation HERO:advisor ;\n",
            "\tHERO:occupation HERO:mass_murderer ;\n",
            "\tHERO:title HERO:queen_regnant ;\n",
            "\tHERO:place_of_death HERO:Red_Keep ;\n",
            "\tHERO:cause_of_death HERO:injury ;\n",
            ".\n",
            "\n",
            "#### Tyrion_Lannister ####\n",
            ":Tyrion_Lannister a HERO:Main_Character;\n",
            "\tHERO:father HERO:Tywin_Lannister ;\n",
            "\tHERO:mother HERO:Joanna_Lannister ;\n",
            "\tHERO:sibling HERO:Cersei_Lannister ;\n",
            "\tHERO:sibling HERO:Jaime_Lannister ;\n",
            "\tHERO:partner HERO:Shae ;\n",
            "\tHERO:spouse HERO:Sansa_Stark ;\n",
            "\tHERO:family HERO:House_Lannister ;\n",
            "\tHERO:occupation HERO:bureaucrat ;\n",
            "\tHERO:occupation HERO:official ;\n",
            "\tHERO:occupation HERO:murderer ;\n",
            "\tHERO:occupation HERO:advisor ;\n",
            "\tHERO:occupation HERO:revolutionary ;\n",
            "\tHERO:title HERO:Lord ;\n",
            "\tHERO:battles_participated HERO:Battle_of_the_Blackwater ;\n",
            ".\n",
            "\n",
            "#### Margaery_Tyrell ####\n",
            ":Margaery_Tyrell a HERO:Main_Character;\n",
            "\tHERO:father HERO:Mace_Tyrell ;\n",
            "\tHERO:mother HERO:Alerie_Tyrell ;\n",
            "\tHERO:sibling HERO:Loras_Tyrell ;\n",
            "\tHERO:sibling HERO:Willas_Tyrell ;\n",
            "\tHERO:sibling HERO:Garlan_Tyrell ;\n",
            "\tHERO:spouse HERO:Joffrey_Baratheon ;\n",
            "\tHERO:spouse HERO:Renly_Baratheon ;\n",
            "\tHERO:spouse HERO:Tommen_Baratheon ;\n",
            "\tHERO:family HERO:House_Tyrell ;\n",
            "\tHERO:title HERO:queen_consort ;\n",
            "\tHERO:title HERO:fictional_queen ;\n",
            "\tHERO:place_of_death HERO:Great_Sept_of_Baelor ;\n",
            "\tHERO:cause_of_death HERO:explosion ;\n",
            ".\n",
            "\n",
            "#### Petyr_Baelish ####\n",
            ":Petyr_Baelish a HERO:Main_Character;\n",
            "\tHERO:spouse HERO:Lysa_Arryn ;\n",
            "\tHERO:relative HERO:Robert_Arryn ;\n",
            "\tHERO:occupation HERO:bureaucrat ;\n",
            "\tHERO:occupation HERO:murderer ;\n",
            "\tHERO:occupation HERO:advisor ;\n",
            "\tHERO:occupation HERO:procurer ;\n",
            "\tHERO:title HERO:Lord ;\n",
            "\tHERO:place_of_death HERO:Winterfell ;\n",
            "\tHERO:cause_of_death HERO:cut ;\n",
            ".\n",
            "\n",
            "#### Robert_Baratheon ####\n",
            ":Robert_Baratheon a HERO:Main_Character;\n",
            "\tHERO:father HERO:Steffon_Baratheon ;\n",
            "\tHERO:mother HERO:Cassana_Baratheon ;\n",
            "\tHERO:sibling HERO:Stannis_Baratheon ;\n",
            "\tHERO:sibling HERO:Renly_Baratheon ;\n",
            "\tHERO:child HERO:Edric_Storm ;\n",
            "\tHERO:child HERO:Gendry ;\n",
            "\tHERO:spouse HERO:Cersei_Lannister ;\n",
            "\tHERO:family HERO:House_Baratheon ;\n",
            "\tHERO:occupation HERO:ruler ;\n",
            "\tHERO:occupation HERO:rebel ;\n",
            "\tHERO:occupation HERO:military_leader ;\n",
            "\tHERO:occupation HERO:hunter ;\n",
            "\tHERO:occupation HERO:revolutionary ;\n",
            "\tHERO:title HERO:Lord ;\n",
            "\tHERO:title HERO:King_of_the_Andals_the_Rhoynar_and_the_First_Men ;\n",
            "\tHERO:place_of_death HERO:Kings_Landing ;\n",
            "\tHERO:cause_of_death HERO:injury ;\n",
            "\tHERO:cause_of_death HERO:hunting_accident ;\n",
            "\tHERO:battles_participated HERO:War_of_the_Usurper ;\n",
            "\tHERO:battles_participated HERO:Greyjoy_Rebellion ;\n",
            ".\n",
            "\n",
            "HERO:Aerys_II_Targaryen a HERO:Character .\n",
            "HERO:Myrcella_Baratheon a HERO:Character .\n",
            "HERO:squire a HERO:Occupation .\n",
            "HERO:hunter a HERO:Occupation .\n",
            "HERO:revolutionary a HERO:Occupation .\n",
            "HERO:Lord a HERO:Title .\n",
            "HERO:warrior a HERO:Occupation .\n",
            "HERO:Lancel_Lannister a HERO:Character .\n",
            "HERO:hunting_accident a HERO:Cause_of_death .\n",
            "HERO:Red_Keep a HERO:Place .\n",
            "HERO:Euron_Greyjoy a HERO:Character .\n",
            "HERO:Gendry a HERO:Character .\n",
            "HERO:official a HERO:Occupation .\n",
            "HERO:rebel a HERO:Occupation .\n",
            "HERO:Daario_Naharis a HERO:Character .\n",
            "HERO:Willas_Tyrell a HERO:Character .\n",
            "HERO:advisor a HERO:Occupation .\n",
            "HERO:Rhaenys_Targaryen_daughter_of_Rhaegar a HERO:Character .\n",
            "HERO:Catelyn_Stark a HERO:Character .\n",
            "HERO:Robert_Arryn a HERO:Character .\n",
            "HERO:Aegon_Targaryen a HERO:Character .\n",
            "HERO:King_of_the_Andals_the_Rhoynar_and_the_First_Men a HERO:Title .\n",
            "HERO:Robb_Stark a HERO:Character .\n",
            "HERO:stabbing a HERO:Cause_of_death .\n",
            "HERO:fictional_vigilante a HERO:Occupation .\n",
            "HERO:regent a HERO:Occupation .\n",
            "HERO:fictional_king a HERO:Title .\n",
            "HERO:House_Lannister a HERO:House .\n",
            "HERO:Renly_Baratheon a HERO:Character .\n",
            "HERO:Kings_Landing a HERO:Place .\n",
            "HERO:Winterfell a HERO:Place .\n",
            "HERO:Joanna_Lannister a HERO:Character .\n",
            "HERO:soldier a HERO:Occupation .\n",
            "HERO:Cassana_Baratheon a HERO:Character .\n",
            "HERO:Jaime_Lannister a HERO:Character .\n",
            "HERO:Rickon_Stark a HERO:Character .\n",
            "HERO:Battle_of_Castle_Black a HERO:Battle .\n",
            "HERO:Battle_of_the_Bastards a HERO:Battle .\n",
            "HERO:Castle_Black a HERO:Place .\n",
            "HERO:fictional_queen a HERO:Title .\n",
            "HERO:murderer a HERO:Occupation .\n",
            "HERO:Khal_Drogo a HERO:Character .\n",
            "HERO:queen_regnant a HERO:Title .\n",
            "HERO:prophet a HERO:Occupation .\n",
            "HERO:ruler a HERO:Occupation .\n",
            "HERO:Loras_Tyrell a HERO:Character .\n",
            "HERO:assassin a HERO:Occupation .\n",
            "HERO:bureaucrat a HERO:Occupation .\n",
            "HERO:spy a HERO:Occupation .\n",
            "HERO:Lyanna_Stark a HERO:Character .\n",
            "HERO:Rickard_Stark a HERO:Character .\n",
            "HERO:Ygritte a HERO:Character .\n",
            "HERO:Tywin_Lannister a HERO:Character .\n",
            "HERO:Benjen_Stark a HERO:Character .\n",
            "HERO:Lyarra_Stark a HERO:Character .\n",
            "HERO:Battle_of_the_Blackwater a HERO:Battle .\n",
            "HERO:House_Targaryen a HERO:House .\n",
            "HERO:Great_Sept_of_Baelor a HERO:Place .\n",
            "HERO:cut a HERO:Cause_of_death .\n",
            "HERO:Mace_Tyrell a HERO:Character .\n",
            "HERO:Rhaegar_Targaryen a HERO:Character .\n",
            "HERO:queen_consort a HERO:Title .\n",
            "HERO:injury a HERO:Cause_of_death .\n",
            "HERO:House_Tyrell a HERO:House .\n",
            "HERO:Edric_Storm a HERO:Character .\n",
            "HERO:Viserys_Targaryen a HERO:Character .\n",
            "HERO:War_of_the_Usurper a HERO:Battle .\n",
            "HERO:Stannis_Baratheon a HERO:Character .\n",
            "HERO:military_leader a HERO:Occupation .\n",
            "HERO:House_Baratheon a HERO:House .\n",
            "HERO:Tommen_Baratheon a HERO:Character .\n",
            "HERO:mass_murderer a HERO:Occupation .\n",
            "HERO:Greyjoy_Rebellion a HERO:Battle .\n",
            "HERO:Shae a HERO:Character .\n",
            "HERO:Joffrey_Baratheon a HERO:Character .\n",
            "HERO:procurer a HERO:Occupation .\n",
            "HERO:Garlan_Tyrell a HERO:Character .\n",
            "HERO:fictional_princess a HERO:Title .\n",
            "HERO:Sansa_Stark a HERO:Character .\n",
            "HERO:explosion a HERO:Cause_of_death .\n",
            "HERO:Alerie_Tyrell a HERO:Character .\n",
            "HERO:Lysa_Arryn a HERO:Character .\n",
            "HERO:Rhaella_Targaryen a HERO:Character .\n",
            "HERO:House_Stark a HERO:House .\n",
            "HERO:Steffon_Baratheon a HERO:Character .\n",
            "HERO:Eddard_Stark a HERO:Character .\n",
            "HERO:Hizdahr_zo_Loraq a HERO:Character .\n",
            "\n"
          ]
        }
      ]
    },
    {
      "cell_type": "markdown",
      "source": [
        "### Analyzing the relations"
      ],
      "metadata": {
        "id": "ESnNdQTPGGrz"
      }
    },
    {
      "cell_type": "code",
      "source": [
        "!pip install rdflib\n",
        "\n",
        "from rdflib import Graph, ConjunctiveGraph, Literal, BNode, Namespace, RDF, URIRef, RDFS\n",
        "from rdflib.namespace import DC, FOAF\n",
        "\n",
        "import pprint"
      ],
      "metadata": {
        "colab": {
          "base_uri": "https://localhost:8080/"
        },
        "id": "9oowvk493Dl2",
        "outputId": "a24e20fe-83d0-4e04-e013-898c3af0f2e3"
      },
      "execution_count": null,
      "outputs": [
        {
          "output_type": "stream",
          "name": "stdout",
          "text": [
            "Requirement already satisfied: rdflib in /usr/local/lib/python3.7/dist-packages (6.1.1)\n",
            "Requirement already satisfied: pyparsing in /usr/local/lib/python3.7/dist-packages (from rdflib) (3.0.7)\n",
            "Requirement already satisfied: importlib-metadata in /usr/local/lib/python3.7/dist-packages (from rdflib) (4.11.3)\n",
            "Requirement already satisfied: isodate in /usr/local/lib/python3.7/dist-packages (from rdflib) (0.6.1)\n",
            "Requirement already satisfied: setuptools in /usr/local/lib/python3.7/dist-packages (from rdflib) (57.4.0)\n",
            "Requirement already satisfied: typing-extensions>=3.6.4 in /usr/local/lib/python3.7/dist-packages (from importlib-metadata->rdflib) (3.10.0.2)\n",
            "Requirement already satisfied: zipp>=0.5 in /usr/local/lib/python3.7/dist-packages (from importlib-metadata->rdflib) (3.7.0)\n",
            "Requirement already satisfied: six in /usr/local/lib/python3.7/dist-packages (from isodate->rdflib) (1.15.0)\n"
          ]
        }
      ]
    },
    {
      "cell_type": "code",
      "source": [
        "got = Graph()\n",
        "got_instance = Graph()\n",
        "\n",
        "results = got.parse(\"got_prop_class.ttl\") + got_instance.parse(\"got_instances.ttl\")\n",
        "print(results.serialize(format = \"nt\"))"
      ],
      "metadata": {
        "colab": {
          "base_uri": "https://localhost:8080/",
          "height": 362
        },
        "id": "sKxscRZEJwXV",
        "outputId": "a898ebc2-3b90-407f-ac84-ea9ed00bfa50"
      },
      "execution_count": null,
      "outputs": [
        {
          "output_type": "error",
          "ename": "FileNotFoundError",
          "evalue": "ignored",
          "traceback": [
            "\u001b[0;31m---------------------------------------------------------------------------\u001b[0m",
            "\u001b[0;31mFileNotFoundError\u001b[0m                         Traceback (most recent call last)",
            "\u001b[0;32m<ipython-input-16-e6b8c178a20e>\u001b[0m in \u001b[0;36m<module>\u001b[0;34m()\u001b[0m\n\u001b[1;32m      2\u001b[0m \u001b[0mgot_instance\u001b[0m \u001b[0;34m=\u001b[0m \u001b[0mGraph\u001b[0m\u001b[0;34m(\u001b[0m\u001b[0;34m)\u001b[0m\u001b[0;34m\u001b[0m\u001b[0;34m\u001b[0m\u001b[0m\n\u001b[1;32m      3\u001b[0m \u001b[0;34m\u001b[0m\u001b[0m\n\u001b[0;32m----> 4\u001b[0;31m \u001b[0mresults\u001b[0m \u001b[0;34m=\u001b[0m \u001b[0mgot\u001b[0m\u001b[0;34m.\u001b[0m\u001b[0mparse\u001b[0m\u001b[0;34m(\u001b[0m\u001b[0;34m\"got_prop_class.ttl\"\u001b[0m\u001b[0;34m)\u001b[0m \u001b[0;34m+\u001b[0m \u001b[0mgot_instance\u001b[0m\u001b[0;34m.\u001b[0m\u001b[0mparse\u001b[0m\u001b[0;34m(\u001b[0m\u001b[0;34m\"got_instances.ttl\"\u001b[0m\u001b[0;34m)\u001b[0m\u001b[0;34m\u001b[0m\u001b[0;34m\u001b[0m\u001b[0m\n\u001b[0m\u001b[1;32m      5\u001b[0m \u001b[0mprint\u001b[0m\u001b[0;34m(\u001b[0m\u001b[0mresults\u001b[0m\u001b[0;34m.\u001b[0m\u001b[0mserialize\u001b[0m\u001b[0;34m(\u001b[0m\u001b[0mformat\u001b[0m \u001b[0;34m=\u001b[0m \u001b[0;34m\"nt\"\u001b[0m\u001b[0;34m)\u001b[0m\u001b[0;34m)\u001b[0m\u001b[0;34m\u001b[0m\u001b[0;34m\u001b[0m\u001b[0m\n",
            "\u001b[0;32m/usr/local/lib/python3.7/dist-packages/rdflib/graph.py\u001b[0m in \u001b[0;36mparse\u001b[0;34m(self, source, publicID, format, location, file, data, **args)\u001b[0m\n\u001b[1;32m   1238\u001b[0m             \u001b[0mfile\u001b[0m\u001b[0;34m=\u001b[0m\u001b[0mfile\u001b[0m\u001b[0;34m,\u001b[0m\u001b[0;34m\u001b[0m\u001b[0;34m\u001b[0m\u001b[0m\n\u001b[1;32m   1239\u001b[0m             \u001b[0mdata\u001b[0m\u001b[0;34m=\u001b[0m\u001b[0mdata\u001b[0m\u001b[0;34m,\u001b[0m\u001b[0;34m\u001b[0m\u001b[0;34m\u001b[0m\u001b[0m\n\u001b[0;32m-> 1240\u001b[0;31m             \u001b[0mformat\u001b[0m\u001b[0;34m=\u001b[0m\u001b[0mformat\u001b[0m\u001b[0;34m,\u001b[0m\u001b[0;34m\u001b[0m\u001b[0;34m\u001b[0m\u001b[0m\n\u001b[0m\u001b[1;32m   1241\u001b[0m         )\n\u001b[1;32m   1242\u001b[0m         \u001b[0;32mif\u001b[0m \u001b[0mformat\u001b[0m \u001b[0;32mis\u001b[0m \u001b[0;32mNone\u001b[0m\u001b[0;34m:\u001b[0m\u001b[0;34m\u001b[0m\u001b[0;34m\u001b[0m\u001b[0m\n",
            "\u001b[0;32m/usr/local/lib/python3.7/dist-packages/rdflib/parser.py\u001b[0m in \u001b[0;36mcreate_input_source\u001b[0;34m(source, publicID, location, file, data, format)\u001b[0m\n\u001b[1;32m    328\u001b[0m             \u001b[0mformat\u001b[0m\u001b[0;34m=\u001b[0m\u001b[0mformat\u001b[0m\u001b[0;34m,\u001b[0m\u001b[0;34m\u001b[0m\u001b[0;34m\u001b[0m\u001b[0m\n\u001b[1;32m    329\u001b[0m             \u001b[0minput_source\u001b[0m\u001b[0;34m=\u001b[0m\u001b[0minput_source\u001b[0m\u001b[0;34m,\u001b[0m\u001b[0;34m\u001b[0m\u001b[0;34m\u001b[0m\u001b[0m\n\u001b[0;32m--> 330\u001b[0;31m             \u001b[0mlocation\u001b[0m\u001b[0;34m=\u001b[0m\u001b[0mlocation\u001b[0m\u001b[0;34m,\u001b[0m\u001b[0;34m\u001b[0m\u001b[0;34m\u001b[0m\u001b[0m\n\u001b[0m\u001b[1;32m    331\u001b[0m         )\n\u001b[1;32m    332\u001b[0m \u001b[0;34m\u001b[0m\u001b[0m\n",
            "\u001b[0;32m/usr/local/lib/python3.7/dist-packages/rdflib/parser.py\u001b[0m in \u001b[0;36m_create_input_source_from_location\u001b[0;34m(file, format, input_source, location)\u001b[0m\n\u001b[1;32m    371\u001b[0m     \u001b[0;32mif\u001b[0m \u001b[0mabsolute_location\u001b[0m\u001b[0;34m.\u001b[0m\u001b[0mstartswith\u001b[0m\u001b[0;34m(\u001b[0m\u001b[0;34m\"file:///\"\u001b[0m\u001b[0;34m)\u001b[0m\u001b[0;34m:\u001b[0m\u001b[0;34m\u001b[0m\u001b[0;34m\u001b[0m\u001b[0m\n\u001b[1;32m    372\u001b[0m         \u001b[0mfilename\u001b[0m \u001b[0;34m=\u001b[0m \u001b[0murl2pathname\u001b[0m\u001b[0;34m(\u001b[0m\u001b[0mabsolute_location\u001b[0m\u001b[0;34m.\u001b[0m\u001b[0mreplace\u001b[0m\u001b[0;34m(\u001b[0m\u001b[0;34m\"file:///\"\u001b[0m\u001b[0;34m,\u001b[0m \u001b[0;34m\"/\"\u001b[0m\u001b[0;34m)\u001b[0m\u001b[0;34m)\u001b[0m\u001b[0;34m\u001b[0m\u001b[0;34m\u001b[0m\u001b[0m\n\u001b[0;32m--> 373\u001b[0;31m         \u001b[0mfile\u001b[0m \u001b[0;34m=\u001b[0m \u001b[0mopen\u001b[0m\u001b[0;34m(\u001b[0m\u001b[0mfilename\u001b[0m\u001b[0;34m,\u001b[0m \u001b[0;34m\"rb\"\u001b[0m\u001b[0;34m)\u001b[0m\u001b[0;34m\u001b[0m\u001b[0;34m\u001b[0m\u001b[0m\n\u001b[0m\u001b[1;32m    374\u001b[0m     \u001b[0;32melse\u001b[0m\u001b[0;34m:\u001b[0m\u001b[0;34m\u001b[0m\u001b[0;34m\u001b[0m\u001b[0m\n\u001b[1;32m    375\u001b[0m         \u001b[0minput_source\u001b[0m \u001b[0;34m=\u001b[0m \u001b[0mURLInputSource\u001b[0m\u001b[0;34m(\u001b[0m\u001b[0mabsolute_location\u001b[0m\u001b[0;34m,\u001b[0m \u001b[0mformat\u001b[0m\u001b[0;34m)\u001b[0m\u001b[0;34m\u001b[0m\u001b[0;34m\u001b[0m\u001b[0m\n",
            "\u001b[0;31mFileNotFoundError\u001b[0m: [Errno 2] No such file or directory: '/got_prop_class.ttl'"
          ]
        }
      ]
    },
    {
      "cell_type": "markdown",
      "source": [
        "### Community Detection with Networkx"
      ],
      "metadata": {
        "id": "rKf0kPWB9pRd"
      }
    },
    {
      "cell_type": "markdown",
      "source": [
        "Using SPARQL, we query the generated RDF network and extract the total number of relations between each character, using the query below. Then using the output (downloaded as .csv), we create a NetworkX graph with weights. \n",
        "\n",
        "The NetworkX package provides methods for community detection. Using these we can identify the communities within our graph and return related characters from within a community. The visualization of the communities are also below."
      ],
      "metadata": {
        "id": "Te-HKWEJGNbO"
      }
    },
    {
      "cell_type": "code",
      "source": [
        "# The SPARQL query below returns the number of edges between two characters.\n",
        "# The output is used to generate a weighted NetworkX graph, and to detect communities.\n",
        "\n",
        "# The query is run on GraphDB and the output downloaded as .csv is used here.\n",
        "\n",
        "\"\"\"\n",
        "PREFIX : <http://visualdataweb.org/GoT/>\n",
        "PREFIX rdf: <http://www.w3.org/1999/02/22-rdf-syntax-ns#>\n",
        "SELECT ?char1 ?char2 (COUNT(?char1) as ?valueSum)\n",
        "WHERE\n",
        "{\n",
        "  ?char1 ?p ?char2 .\n",
        "  ?char1 a :Character .\n",
        "  ?char2 a :Character .\n",
        "}\n",
        "GROUP BY ?char1 ?char2\n",
        "\"\"\""
      ],
      "metadata": {
        "colab": {
          "base_uri": "https://localhost:8080/",
          "height": 53
        },
        "id": "dr-m7AqGaYLI",
        "outputId": "52de5280-4843-400a-f836-75b2be38907d"
      },
      "execution_count": null,
      "outputs": [
        {
          "output_type": "execute_result",
          "data": {
            "text/plain": [
              "'\\nPREFIX : <http://visualdataweb.org/GoT/>\\nPREFIX rdf: <http://www.w3.org/1999/02/22-rdf-syntax-ns#>\\nSELECT ?char1 ?char2 (COUNT(?char1) as ?valueSum)\\nWHERE\\n{\\n  ?char1 ?p ?char2 .\\n  ?char1 a :Character .\\n  ?char2 a :Character .\\n}\\nGROUP BY ?char1 ?char2\\n'"
            ],
            "application/vnd.google.colaboratory.intrinsic+json": {
              "type": "string"
            }
          },
          "metadata": {},
          "execution_count": 17
        }
      ]
    },
    {
      "cell_type": "code",
      "source": [
        "import pandas as pd\n",
        "\n",
        "df = pd.read_csv(\"query-result.csv\", sep = \",\")\n",
        "df['char1'] = [i[-1] for i in df['char1'].str.split(\"/\")]\n",
        "df['char2'] = [i[-1] for i in df['char2'].str.split(\"/\")]\n",
        "df"
      ],
      "metadata": {
        "colab": {
          "base_uri": "https://localhost:8080/",
          "height": 423
        },
        "id": "HlAZROSV_jT1",
        "outputId": "70b578c3-e4dd-48bc-f034-481a946cacf3"
      },
      "execution_count": null,
      "outputs": [
        {
          "output_type": "execute_result",
          "data": {
            "text/plain": [
              "              char1                                  char2  valueSum\n",
              "0          Jon_Snow                      Rhaegar_Targaryen         1\n",
              "1          Jon_Snow                           Lyanna_Stark         1\n",
              "2          Jon_Snow  Rhaenys_Targaryen_daughter_of_Rhaegar         1\n",
              "3          Jon_Snow                        Aegon_Targaryen         1\n",
              "4          Jon_Snow                     Daenerys_Targaryen         2\n",
              "..              ...                                    ...       ...\n",
              "59  Margaery_Tyrell                          Willas_Tyrell         1\n",
              "60  Margaery_Tyrell                          Garlan_Tyrell         1\n",
              "61  Margaery_Tyrell                      Joffrey_Baratheon         1\n",
              "62  Margaery_Tyrell                       Tommen_Baratheon         1\n",
              "63  Margaery_Tyrell                        Renly_Baratheon         1\n",
              "\n",
              "[64 rows x 3 columns]"
            ],
            "text/html": [
              "\n",
              "  <div id=\"df-147d47d9-8510-449d-adea-f0e4c7eed377\">\n",
              "    <div class=\"colab-df-container\">\n",
              "      <div>\n",
              "<style scoped>\n",
              "    .dataframe tbody tr th:only-of-type {\n",
              "        vertical-align: middle;\n",
              "    }\n",
              "\n",
              "    .dataframe tbody tr th {\n",
              "        vertical-align: top;\n",
              "    }\n",
              "\n",
              "    .dataframe thead th {\n",
              "        text-align: right;\n",
              "    }\n",
              "</style>\n",
              "<table border=\"1\" class=\"dataframe\">\n",
              "  <thead>\n",
              "    <tr style=\"text-align: right;\">\n",
              "      <th></th>\n",
              "      <th>char1</th>\n",
              "      <th>char2</th>\n",
              "      <th>valueSum</th>\n",
              "    </tr>\n",
              "  </thead>\n",
              "  <tbody>\n",
              "    <tr>\n",
              "      <th>0</th>\n",
              "      <td>Jon_Snow</td>\n",
              "      <td>Rhaegar_Targaryen</td>\n",
              "      <td>1</td>\n",
              "    </tr>\n",
              "    <tr>\n",
              "      <th>1</th>\n",
              "      <td>Jon_Snow</td>\n",
              "      <td>Lyanna_Stark</td>\n",
              "      <td>1</td>\n",
              "    </tr>\n",
              "    <tr>\n",
              "      <th>2</th>\n",
              "      <td>Jon_Snow</td>\n",
              "      <td>Rhaenys_Targaryen_daughter_of_Rhaegar</td>\n",
              "      <td>1</td>\n",
              "    </tr>\n",
              "    <tr>\n",
              "      <th>3</th>\n",
              "      <td>Jon_Snow</td>\n",
              "      <td>Aegon_Targaryen</td>\n",
              "      <td>1</td>\n",
              "    </tr>\n",
              "    <tr>\n",
              "      <th>4</th>\n",
              "      <td>Jon_Snow</td>\n",
              "      <td>Daenerys_Targaryen</td>\n",
              "      <td>2</td>\n",
              "    </tr>\n",
              "    <tr>\n",
              "      <th>...</th>\n",
              "      <td>...</td>\n",
              "      <td>...</td>\n",
              "      <td>...</td>\n",
              "    </tr>\n",
              "    <tr>\n",
              "      <th>59</th>\n",
              "      <td>Margaery_Tyrell</td>\n",
              "      <td>Willas_Tyrell</td>\n",
              "      <td>1</td>\n",
              "    </tr>\n",
              "    <tr>\n",
              "      <th>60</th>\n",
              "      <td>Margaery_Tyrell</td>\n",
              "      <td>Garlan_Tyrell</td>\n",
              "      <td>1</td>\n",
              "    </tr>\n",
              "    <tr>\n",
              "      <th>61</th>\n",
              "      <td>Margaery_Tyrell</td>\n",
              "      <td>Joffrey_Baratheon</td>\n",
              "      <td>1</td>\n",
              "    </tr>\n",
              "    <tr>\n",
              "      <th>62</th>\n",
              "      <td>Margaery_Tyrell</td>\n",
              "      <td>Tommen_Baratheon</td>\n",
              "      <td>1</td>\n",
              "    </tr>\n",
              "    <tr>\n",
              "      <th>63</th>\n",
              "      <td>Margaery_Tyrell</td>\n",
              "      <td>Renly_Baratheon</td>\n",
              "      <td>1</td>\n",
              "    </tr>\n",
              "  </tbody>\n",
              "</table>\n",
              "<p>64 rows × 3 columns</p>\n",
              "</div>\n",
              "      <button class=\"colab-df-convert\" onclick=\"convertToInteractive('df-147d47d9-8510-449d-adea-f0e4c7eed377')\"\n",
              "              title=\"Convert this dataframe to an interactive table.\"\n",
              "              style=\"display:none;\">\n",
              "        \n",
              "  <svg xmlns=\"http://www.w3.org/2000/svg\" height=\"24px\"viewBox=\"0 0 24 24\"\n",
              "       width=\"24px\">\n",
              "    <path d=\"M0 0h24v24H0V0z\" fill=\"none\"/>\n",
              "    <path d=\"M18.56 5.44l.94 2.06.94-2.06 2.06-.94-2.06-.94-.94-2.06-.94 2.06-2.06.94zm-11 1L8.5 8.5l.94-2.06 2.06-.94-2.06-.94L8.5 2.5l-.94 2.06-2.06.94zm10 10l.94 2.06.94-2.06 2.06-.94-2.06-.94-.94-2.06-.94 2.06-2.06.94z\"/><path d=\"M17.41 7.96l-1.37-1.37c-.4-.4-.92-.59-1.43-.59-.52 0-1.04.2-1.43.59L10.3 9.45l-7.72 7.72c-.78.78-.78 2.05 0 2.83L4 21.41c.39.39.9.59 1.41.59.51 0 1.02-.2 1.41-.59l7.78-7.78 2.81-2.81c.8-.78.8-2.07 0-2.86zM5.41 20L4 18.59l7.72-7.72 1.47 1.35L5.41 20z\"/>\n",
              "  </svg>\n",
              "      </button>\n",
              "      \n",
              "  <style>\n",
              "    .colab-df-container {\n",
              "      display:flex;\n",
              "      flex-wrap:wrap;\n",
              "      gap: 12px;\n",
              "    }\n",
              "\n",
              "    .colab-df-convert {\n",
              "      background-color: #E8F0FE;\n",
              "      border: none;\n",
              "      border-radius: 50%;\n",
              "      cursor: pointer;\n",
              "      display: none;\n",
              "      fill: #1967D2;\n",
              "      height: 32px;\n",
              "      padding: 0 0 0 0;\n",
              "      width: 32px;\n",
              "    }\n",
              "\n",
              "    .colab-df-convert:hover {\n",
              "      background-color: #E2EBFA;\n",
              "      box-shadow: 0px 1px 2px rgba(60, 64, 67, 0.3), 0px 1px 3px 1px rgba(60, 64, 67, 0.15);\n",
              "      fill: #174EA6;\n",
              "    }\n",
              "\n",
              "    [theme=dark] .colab-df-convert {\n",
              "      background-color: #3B4455;\n",
              "      fill: #D2E3FC;\n",
              "    }\n",
              "\n",
              "    [theme=dark] .colab-df-convert:hover {\n",
              "      background-color: #434B5C;\n",
              "      box-shadow: 0px 1px 3px 1px rgba(0, 0, 0, 0.15);\n",
              "      filter: drop-shadow(0px 1px 2px rgba(0, 0, 0, 0.3));\n",
              "      fill: #FFFFFF;\n",
              "    }\n",
              "  </style>\n",
              "\n",
              "      <script>\n",
              "        const buttonEl =\n",
              "          document.querySelector('#df-147d47d9-8510-449d-adea-f0e4c7eed377 button.colab-df-convert');\n",
              "        buttonEl.style.display =\n",
              "          google.colab.kernel.accessAllowed ? 'block' : 'none';\n",
              "\n",
              "        async function convertToInteractive(key) {\n",
              "          const element = document.querySelector('#df-147d47d9-8510-449d-adea-f0e4c7eed377');\n",
              "          const dataTable =\n",
              "            await google.colab.kernel.invokeFunction('convertToInteractive',\n",
              "                                                     [key], {});\n",
              "          if (!dataTable) return;\n",
              "\n",
              "          const docLinkHtml = 'Like what you see? Visit the ' +\n",
              "            '<a target=\"_blank\" href=https://colab.research.google.com/notebooks/data_table.ipynb>data table notebook</a>'\n",
              "            + ' to learn more about interactive tables.';\n",
              "          element.innerHTML = '';\n",
              "          dataTable['output_type'] = 'display_data';\n",
              "          await google.colab.output.renderOutput(dataTable, element);\n",
              "          const docLink = document.createElement('div');\n",
              "          docLink.innerHTML = docLinkHtml;\n",
              "          element.appendChild(docLink);\n",
              "        }\n",
              "      </script>\n",
              "    </div>\n",
              "  </div>\n",
              "  "
            ]
          },
          "metadata": {},
          "execution_count": 2
        }
      ]
    },
    {
      "cell_type": "code",
      "source": [
        "import networkx as nx\n",
        "\n",
        "tuples_lst = [(x[1]['char1'], x[1]['char2'],x[1]['valueSum']) for x in df.iterrows()]\n",
        "\n",
        "G = nx.Graph()\n",
        "G.add_weighted_edges_from(tuples_lst)\n",
        "G"
      ],
      "metadata": {
        "colab": {
          "base_uri": "https://localhost:8080/"
        },
        "id": "PdtL3IfN9ozr",
        "outputId": "2cc2c151-0191-42e7-fdae-e9d2478cfbef"
      },
      "execution_count": null,
      "outputs": [
        {
          "output_type": "execute_result",
          "data": {
            "text/plain": [
              "<networkx.classes.graph.Graph at 0x7ff5e5486250>"
            ]
          },
          "metadata": {},
          "execution_count": 31
        }
      ]
    },
    {
      "cell_type": "code",
      "source": [
        "import networkx as nx\n",
        "\n",
        "tuples_lst = [(x[1]['char1'].split(\"_\")[0], x[1]['char2'].split(\"_\")[0], {'weight': x[1]['valueSum']}) for x in df.iterrows()]\n",
        "\n",
        "G = nx.Graph(tuples_lst)\n",
        "#G.add_weighted_edges_from()\n",
        "G"
      ],
      "metadata": {
        "colab": {
          "base_uri": "https://localhost:8080/"
        },
        "id": "fsWh_EIdBSyk",
        "outputId": "b29d3c43-5084-4e56-d2af-bdf1973835c5"
      },
      "execution_count": null,
      "outputs": [
        {
          "output_type": "execute_result",
          "data": {
            "text/plain": [
              "<networkx.classes.graph.Graph at 0x7ff5e5485d10>"
            ]
          },
          "metadata": {},
          "execution_count": 32
        }
      ]
    },
    {
      "cell_type": "code",
      "source": [
        "import matplotlib.pyplot as plt\n",
        "\n",
        "plt.rcParams[\"figure.figsize\"] = (20,20)\n",
        "\n",
        "\n",
        "pos=nx.spring_layout(G) # pos = nx.nx_agraph.graphviz_layout(G)\n",
        "nx.draw_networkx(G,pos)\n",
        "labels = nx.get_edge_attributes(G,'weight')\n",
        "nx.draw_networkx_edge_labels(G,pos,edge_labels=labels)"
      ],
      "metadata": {
        "colab": {
          "base_uri": "https://localhost:8080/",
          "height": 1000
        },
        "id": "NMPj7tZ9A3Ju",
        "outputId": "d0b99cac-a917-4131-ddac-994daea2a50e"
      },
      "execution_count": null,
      "outputs": [
        {
          "output_type": "execute_result",
          "data": {
            "text/plain": [
              "{('Arya', 'Bran'): Text(0.42309577864649606, 0.012972062420625267, '1'),\n",
              " ('Arya', 'Catelyn'): Text(0.4952498014516012, 0.0257693699761425, '1'),\n",
              " ('Arya', 'Rickon'): Text(0.48421617290735747, 0.062483906794596214, '1'),\n",
              " ('Arya', 'Robb'): Text(0.44854234967675155, 0.06732337950929589, '1'),\n",
              " ('Arya', 'Sansa'): Text(0.3425721875163339, 0.09650554155750708, '1'),\n",
              " ('Bran', 'Rickon'): Text(0.4678861505584393, 0.06662360238989032, '1'),\n",
              " ('Bran', 'Robb'): Text(0.4322123273278333, 0.07146307510458999, '1'),\n",
              " ('Catelyn', 'Bran'): Text(0.478919779102683, 0.0299090655714366, '1'),\n",
              " ('Cersei', 'Euron'): Text(-0.27356947789161634, 0.36350773503789546, '1'),\n",
              " ('Cersei', 'Jaime'): Text(-0.23411221990222855, 0.43035086803528705, '2'),\n",
              " ('Cersei', 'Joanna'): Text(-0.20750319786576285, 0.47741698390327436, '1'),\n",
              " ('Cersei', 'Joffrey'): Text(-0.42135920312034786, 0.4280834513310884, '1'),\n",
              " ('Cersei', 'Lancel'): Text(-0.29529290444798245, 0.3379928557032712, '1'),\n",
              " ('Cersei', 'Myrcella'): Text(-0.250586649684659, 0.39186098461767804, '1'),\n",
              " ('Cersei', 'Robert'): Text(-0.3646258705897645, 0.5861883535898236, '1'),\n",
              " ('Cersei', 'Tommen'): Text(-0.4169924932812585, 0.3983994641962089, '1'),\n",
              " ('Cersei', 'Tyrion'): Text(-0.16008717875131623, 0.41882492852707953, '1'),\n",
              " ('Cersei', 'Tywin'): Text(-0.23327404056363799, 0.459224917544726, '1'),\n",
              " ('Daenerys', 'Aerys'): Text(0.5962348552742593, -0.7870077880683433, '1'),\n",
              " ('Daenerys', 'Daario'): Text(0.6713754330812579, -0.9073415947671952, '1'),\n",
              " ('Daenerys', 'Hizdahr'): Text(0.7299847057536908, -0.8298722587113089, '1'),\n",
              " ('Daenerys', 'Khal'): Text(0.7130302113036442, -0.8794478939761039, '1'),\n",
              " ('Daenerys', 'Rhaella'): Text(0.6094764841285489, -0.7424953679128088, '1'),\n",
              " ('Daenerys', 'Viserys'): Text(0.5829668004024768, -0.8208337583788246, '1'),\n",
              " ('Eddard', 'Arya'): Text(0.4353284176815068, -0.12664587988970868, '1'),\n",
              " ('Eddard', 'Bran'): Text(0.41899839533258865, -0.1225061842944146, '1'),\n",
              " ('Joanna', 'Tyrion'): Text(-0.07046286560851871, 0.45619854099330404, '1'),\n",
              " ('Joffrey', 'Margaery'): Text(-0.6538720849649156, 0.3895431560932546, '1'),\n",
              " ('Jon', 'Aegon'): Text(0.36277783009375136, -0.6791920727528596, '1'),\n",
              " ('Jon', 'Aerys'): Text(0.49050986798465723, -0.7095389299344567, '1'),\n",
              " ('Jon', 'Benjen'): Text(0.3541507980010077, -0.6333055860595846, '1'),\n",
              " ('Jon', 'Daenerys'): Text(0.5348346522559146, -0.7372143314005037, '1'),\n",
              " ('Jon', 'Eddard'): Text(0.43017034966695594, -0.46093479993568287, '1'),\n",
              " ('Jon', 'Lyanna'): Text(0.4064744288946065, -0.7219577510540238, '1'),\n",
              " ('Jon', 'Lyarra'): Text(0.3719850797209394, -0.7495457655238884, '1'),\n",
              " ('Jon', 'Rhaegar'): Text(0.5254975336411047, -0.682581316584687, '1'),\n",
              " ('Jon', 'Rhaella'): Text(0.5037514968389467, -0.6650265097789223, '1'),\n",
              " ('Jon', 'Rhaenys'): Text(0.40438905251148305, -0.5944149594631364, '1'),\n",
              " ('Jon', 'Rickard'): Text(0.42226965312572406, -0.7635594530943883, '1'),\n",
              " ('Jon', 'Viserys'): Text(0.4772418131128747, -0.743364900244938, '1'),\n",
              " ('Jon', 'Ygritte'): Text(0.34068712266159057, -0.7118671837265453, '1'),\n",
              " ('Margaery', 'Alerie'): Text(-0.835181207341664, 0.41725983113347, '1'),\n",
              " ('Margaery', 'Garlan'): Text(-0.8345738466937411, 0.2999440995076706, '1'),\n",
              " ('Margaery', 'Loras'): Text(-0.7938660569027058, 0.2840163024885414, '1'),\n",
              " ('Margaery', 'Mace'): Text(-0.8516780400767232, 0.3364842592907502, '1'),\n",
              " ('Margaery', 'Willas'): Text(-0.8567243448640413, 0.37798314483650197, '1'),\n",
              " ('Renly', 'Margaery'): Text(-0.6890274018838116, 0.46173877089184856, '1'),\n",
              " ('Rhaegar', 'Daenerys'): Text(0.631222520930707, -0.7600501747185735, '1'),\n",
              " ('Robert', 'Cassana'): Text(-0.4363328276323224, 0.8267188939864047, '1'),\n",
              " ('Robert', 'Edric'): Text(-0.4772681309892725, 0.8182794187486359, '1'),\n",
              " ('Robert', 'Gendry'): Text(-0.35669298614572453, 0.7792699647848429, '1'),\n",
              " ('Robert', 'Renly'): Text(-0.524012879620448, 0.6464240482824561, '1'),\n",
              " ('Robert', 'Stannis'): Text(-0.39572620390376634, 0.8161714398420583, '1'),\n",
              " ('Robert', 'Steffon'): Text(-0.506000062592344, 0.7856173330023921, '1'),\n",
              " ('Sansa', 'Bran'): Text(0.3262421651674157, 0.10064523715280119, '1'),\n",
              " ('Sansa', 'Tyrion'): Text(0.11133586377159073, 0.2908926009533961, '1'),\n",
              " ('Tommen', 'Margaery'): Text(-0.6495053751258262, 0.3598591689583751, '1'),\n",
              " ('Tyrion', 'Jaime'): Text(-0.09707188764498441, 0.4091324251253168, '1'),\n",
              " ('Tyrion', 'Shae'): Text(0.0377260924277629, 0.46318286153520916, '1'),\n",
              " ('Tywin', 'Tyrion'): Text(-0.09623370830639383, 0.4380064746347557, '1')}"
            ]
          },
          "metadata": {},
          "execution_count": 33
        },
        {
          "output_type": "display_data",
          "data": {
            "text/plain": [
              "<Figure size 1440x1440 with 1 Axes>"
            ],
            "image/png": "[encoded data removed]"
          },
          "metadata": {}
        }
      ]
    },
    {
      "cell_type": "code",
      "source": [
        "import networkx.algorithms.community as nxcom\n",
        "\n",
        "communities = sorted(nxcom.greedy_modularity_communities(G), key=len, reverse=True)\n",
        "print(communities)"
      ],
      "metadata": {
        "colab": {
          "base_uri": "https://localhost:8080/"
        },
        "id": "cgGNaR-CCOM3",
        "outputId": "aea77198-c23a-434c-f108-3def1d01dd0b"
      },
      "execution_count": null,
      "outputs": [
        {
          "output_type": "stream",
          "name": "stdout",
          "text": [
            "[frozenset({'Aerys', 'Hizdahr', 'Daario', 'Benjen', 'Rickard', 'Lyarra', 'Rhaella', 'Ygritte', 'Daenerys', 'Rhaenys', 'Viserys', 'Khal', 'Aegon', 'Rhaegar', 'Jon', 'Lyanna'}), frozenset({'Lancel', 'Joanna', 'Shae', 'Tyrion', 'Euron', 'Cersei', 'Tywin', 'Myrcella', 'Jaime'}), frozenset({'Loras', 'Alerie', 'Mace', 'Joffrey', 'Garlan', 'Margaery', 'Willas', 'Tommen'}), frozenset({'Sansa', 'Catelyn', 'Rickon', 'Bran', 'Arya', 'Eddard', 'Robb'}), frozenset({'Renly', 'Robert', 'Cassana', 'Gendry', 'Steffon', 'Stannis', 'Edric'})]\n"
          ]
        }
      ]
    },
    {
      "cell_type": "code",
      "source": [
        "communities_dict = {}\n",
        "for com in communities:\n",
        "  for mc in main_characters.keys():\n",
        "    if mc in list(com):\n",
        "      com_copy = list(com)\n",
        "      com_copy.remove(mc)\n",
        "      communities_dict[mc] = com_copy\n",
        "\n",
        "communities_dict['Arya_Stark']"
      ],
      "metadata": {
        "colab": {
          "base_uri": "https://localhost:8080/",
          "height": 200
        },
        "id": "AoK8Il1ULFDE",
        "outputId": "b2927fc9-7bc9-48df-b406-9407b32d9603"
      },
      "execution_count": null,
      "outputs": [
        {
          "output_type": "error",
          "ename": "KeyError",
          "evalue": "ignored",
          "traceback": [
            "\u001b[0;31m---------------------------------------------------------------------------\u001b[0m",
            "\u001b[0;31mKeyError\u001b[0m                                  Traceback (most recent call last)",
            "\u001b[0;32m<ipython-input-35-dbbcb9eb8b84>\u001b[0m in \u001b[0;36m<module>\u001b[0;34m()\u001b[0m\n\u001b[1;32m      7\u001b[0m       \u001b[0mcommunities_dict\u001b[0m\u001b[0;34m[\u001b[0m\u001b[0mmc\u001b[0m\u001b[0;34m]\u001b[0m \u001b[0;34m=\u001b[0m \u001b[0mcom_copy\u001b[0m\u001b[0;34m\u001b[0m\u001b[0;34m\u001b[0m\u001b[0m\n\u001b[1;32m      8\u001b[0m \u001b[0;34m\u001b[0m\u001b[0m\n\u001b[0;32m----> 9\u001b[0;31m \u001b[0mcommunities_dict\u001b[0m\u001b[0;34m[\u001b[0m\u001b[0;34m'Arya_Stark'\u001b[0m\u001b[0;34m]\u001b[0m\u001b[0;34m\u001b[0m\u001b[0;34m\u001b[0m\u001b[0m\n\u001b[0m",
            "\u001b[0;31mKeyError\u001b[0m: 'Arya_Stark'"
          ]
        }
      ]
    },
    {
      "cell_type": "code",
      "source": [
        "import random \n",
        "def find_communities(weighted_input):\n",
        "  df = pd.read_csv(weighted_input, sep = \",\")\n",
        "  df['char1'] = [i[-1] for i in df['char1'].str.split(\"/\")]\n",
        "  df['char2'] = [i[-1] for i in df['char2'].str.split(\"/\")]\n",
        "\n",
        "  tuples_lst = [(x[1]['char1'], x[1]['char2'],x[1]['valueSum']) for x in df.iterrows()]\n",
        "  G = nx.Graph()\n",
        "  G.add_weighted_edges_from(tuples_lst)\n",
        "\n",
        "  communities = sorted(nxcom.greedy_modularity_communities(G), key=len, reverse=True)\n",
        "\n",
        "  communities_dict = {}\n",
        "  for com in communities:\n",
        "    for mc in main_characters.keys():\n",
        "      if mc in list(com):\n",
        "        com_copy = list(com)\n",
        "        com_copy.remove(mc)\n",
        "        communities_dict[mc] = com_copy\n",
        "\n",
        "  return communities_dict\n",
        "\n",
        "communities = find_communities(\"query-result.csv\")\n",
        "def hero_pick():\n",
        "  return random.choice(list(communities.keys()))\n",
        "\n",
        "hero_pick()\n",
        "\n",
        "def comm_based_pick(ist_class, hero):\n",
        "  category = ist_class.split(\"/\")[-1]\n",
        "  if category == \"Actor\":\n",
        "    return random.choice(list(communities[hero]))\n",
        "  return random_pick(ist_class) \n",
        "\n",
        "comm_based_pick(\"http://semanticweb.cs.vu.nl/2009/11/sem/Actor\", \"Jon_Snow\")\n",
        "\n",
        "\n",
        "# {'jon_snow: [\"bsd\",\"njd\",\"aknd\",\"daenerys_targ\"]}"
      ],
      "metadata": {
        "colab": {
          "base_uri": "https://localhost:8080/",
          "height": 35
        },
        "id": "LtMh1Gs3NI_z",
        "outputId": "2037883c-e1a7-46a9-a0cf-ecfb1d5e8a2f"
      },
      "execution_count": null,
      "outputs": [
        {
          "output_type": "execute_result",
          "data": {
            "text/plain": [
              "'Rhaenys_Targaryen_daughter_of_Rhaegar'"
            ],
            "application/vnd.google.colaboratory.intrinsic+json": {
              "type": "string"
            }
          },
          "metadata": {},
          "execution_count": 36
        }
      ]
    },
    {
      "cell_type": "code",
      "source": [
        "[{k: communities[k]} for k in communities.keys() if (not \"Jon_Snow\" in communities[k] and k != \"Jon_Snow\")]"
      ],
      "metadata": {
        "colab": {
          "base_uri": "https://localhost:8080/"
        },
        "id": "4CLkFT1Y9qre",
        "outputId": "dfc5db1b-5a8f-4fa6-b52e-5a6d01ed00f4"
      },
      "execution_count": null,
      "outputs": [
        {
          "output_type": "execute_result",
          "data": {
            "text/plain": [
              "[{'Cersei_Lannister': ['Jaime_Lannister',\n",
              "   'Tyrion_Lannister',\n",
              "   'Lancel_Lannister',\n",
              "   'Shae',\n",
              "   'Myrcella_Baratheon',\n",
              "   'Joanna_Lannister',\n",
              "   'Euron_Greyjoy',\n",
              "   'Tywin_Lannister']},\n",
              " {'Tyrion_Lannister': ['Jaime_Lannister',\n",
              "   'Cersei_Lannister',\n",
              "   'Lancel_Lannister',\n",
              "   'Shae',\n",
              "   'Myrcella_Baratheon',\n",
              "   'Joanna_Lannister',\n",
              "   'Euron_Greyjoy',\n",
              "   'Tywin_Lannister']},\n",
              " {'Margaery_Tyrell': ['Willas_Tyrell',\n",
              "   'Joffrey_Baratheon',\n",
              "   'Garlan_Tyrell',\n",
              "   'Alerie_Tyrell',\n",
              "   'Loras_Tyrell',\n",
              "   'Tommen_Baratheon',\n",
              "   'Mace_Tyrell']},\n",
              " {'Arya_Stark': ['Bran_Stark',\n",
              "   'Catelyn_Stark',\n",
              "   'Sansa_Stark',\n",
              "   'Eddard_Stark',\n",
              "   'Robb_Stark',\n",
              "   'Rickon_Stark']},\n",
              " {'Bran_Stark': ['Catelyn_Stark',\n",
              "   'Sansa_Stark',\n",
              "   'Eddard_Stark',\n",
              "   'Robb_Stark',\n",
              "   'Rickon_Stark',\n",
              "   'Arya_Stark']},\n",
              " {'Robert_Baratheon': ['Stannis_Baratheon',\n",
              "   'Steffon_Baratheon',\n",
              "   'Cassana_Baratheon',\n",
              "   'Renly_Baratheon',\n",
              "   'Gendry',\n",
              "   'Edric_Storm']}]"
            ]
          },
          "metadata": {},
          "execution_count": 37
        }
      ]
    },
    {
      "cell_type": "code",
      "source": [
        "communities = sorted(nxcom.greedy_modularity_communities(G), key=len, reverse=True)\n",
        "print(f\"The graph has {len(communities)} communities.\")"
      ],
      "metadata": {
        "colab": {
          "base_uri": "https://localhost:8080/"
        },
        "id": "_tA-6zwccX5r",
        "outputId": "2d927fda-3431-4823-bbc9-70c44846b34f"
      },
      "execution_count": null,
      "outputs": [
        {
          "output_type": "stream",
          "name": "stdout",
          "text": [
            "The graph has 5 communities.\n"
          ]
        }
      ]
    },
    {
      "cell_type": "code",
      "source": [
        "def set_node_community(G, communities):\n",
        "    '''Add community to node attributes'''\n",
        "    for c, v_c in enumerate(communities):\n",
        "        for v in v_c:\n",
        "            # Add 1 to save 0 for external edges\n",
        "            G.nodes[v]['community'] = c + 1\n",
        "\n",
        "def set_edge_community(G):\n",
        "    '''Find internal edges and add their community to their attributes'''\n",
        "    for v, w, in G.edges:\n",
        "        if G.nodes[v]['community'] == G.nodes[w]['community']:\n",
        "            # Internal edge, mark with community\n",
        "            G.edges[v, w]['community'] = G.nodes[v]['community']\n",
        "        else:\n",
        "            # External edge, mark as 0\n",
        "            G.edges[v, w]['community'] = 0\n",
        "            \n",
        "def get_color(i, r_off=1, g_off=1, b_off=1):\n",
        "    '''Assign a color to a vertex.'''\n",
        "    r0, g0, b0 = 0, 0, 0\n",
        "    n = 16\n",
        "    low, high = 0.1, 0.9\n",
        "    span = high - low\n",
        "    r = low + span * (((i + r_off) * 3) % n) / (n - 1)\n",
        "    g = low + span * (((i + g_off) * 5) % n) / (n - 1)\n",
        "    b = low + span * (((i + b_off) * 7) % n) / (n - 1)\n",
        "    return (r, g, b)\n",
        "\n",
        "\n",
        "set_node_community(G, communities)\n",
        "set_edge_community(G)\n",
        "node_color = [get_color(G.nodes[v]['community']) for v in G.nodes]\n",
        "# Set community color for edges between members of the same community (internal) and intra-community edges (external)\n",
        "external = [(v, w) for v, w in G.edges if G.edges[v, w]['community'] == 0]\n",
        "internal = [(v, w) for v, w in G.edges if G.edges[v, w]['community'] > 0]\n",
        "internal_color = ['black' for e in internal]"
      ],
      "metadata": {
        "id": "GphkuHHp15FU"
      },
      "execution_count": null,
      "outputs": []
    },
    {
      "cell_type": "code",
      "source": [
        "import math\n",
        "G_pos = nx.spring_layout(G, k=2/math.sqrt(G.order()))\n",
        "plt.rcParams.update({'figure.figsize': (15, 10)})\n",
        "# Draw external edges\n",
        "nx.draw_networkx(\n",
        "    G,\n",
        "    pos=G_pos,\n",
        "    node_size=0,\n",
        "    edgelist=external,\n",
        "    edge_color=\"silver\")\n",
        "\n",
        "# Draw nodes and internal edges\n",
        "nx.draw_networkx(\n",
        "    G,\n",
        "    pos=G_pos,\n",
        "    node_color=node_color,\n",
        "    edgelist=internal,\n",
        "    edge_color=internal_color)"
      ],
      "metadata": {
        "colab": {
          "base_uri": "https://localhost:8080/",
          "height": 575
        },
        "id": "w13r0Ex52WpR",
        "outputId": "2bc1eb13-8caf-4091-9057-669d4e492219"
      },
      "execution_count": null,
      "outputs": [
        {
          "output_type": "display_data",
          "data": {
            "text/plain": [
              "<Figure size 1080x720 with 1 Axes>"
            ],
            "image/png": "[encoded data removed]"
          },
          "metadata": {}
        }
      ]
    },
    {
      "cell_type": "code",
      "source": [
        "len(list(communities[0]))"
      ],
      "metadata": {
        "colab": {
          "base_uri": "https://localhost:8080/"
        },
        "id": "3MgbXXnx9Qlu",
        "outputId": "846b3156-6776-4131-9f3a-0d2d8cbf96c6"
      },
      "execution_count": null,
      "outputs": [
        {
          "output_type": "execute_result",
          "data": {
            "text/plain": [
              "18"
            ]
          },
          "metadata": {},
          "execution_count": 34
        }
      ]
    }
  ]
}